{
 "cells": [
  {
   "cell_type": "code",
   "execution_count": 1,
   "id": "8a0c6719",
   "metadata": {},
   "outputs": [
    {
     "name": "stdout",
     "output_type": "stream",
     "text": [
      "ㅎㅇ\n",
      "ㅎㅇ\n"
     ]
    }
   ],
   "source": [
    "s = input()    # input 함수 호출(call)\n",
    "print(s)       # print 함수 호출"
   ]
  },
  {
   "cell_type": "code",
   "execution_count": 2,
   "id": "f3f41682",
   "metadata": {},
   "outputs": [
    {
     "name": "stdout",
     "output_type": "stream",
     "text": [
      "100\n",
      "test\n"
     ]
    }
   ],
   "source": [
    "i = int('100')    # '100' : argument(인수)=피연산자\n",
    "print(i)    # i의 100 => int()함수의 반환\n",
    "j = print('test')"
   ]
  },
  {
   "cell_type": "code",
   "execution_count": 3,
   "id": "407070d5",
   "metadata": {},
   "outputs": [
    {
     "name": "stdout",
     "output_type": "stream",
     "text": [
      "None\n"
     ]
    }
   ],
   "source": [
    "print(j)"
   ]
  },
  {
   "cell_type": "markdown",
   "id": "6d790e05",
   "metadata": {},
   "source": [
    "# 함수(Funtion)\n",
    "- 사용자 정의 연산자\n",
    "- 구문\n",
    "```python\n",
    "# [] 옵션, .... 여러개\n",
    "def 함수명([arg1, arg2,...]) :\n",
    "    실행문1\n",
    "      ・\n",
    "      ・\n",
    "    [return value]\n",
    "````\n",
    "- 함수 이름\n",
    "    - 규칙 : 변수와 동일\n",
    "    - 관례 : 변수와 동일 - snake 표기법"
   ]
  },
  {
   "cell_type": "code",
   "execution_count": 4,
   "id": "50859fbf",
   "metadata": {},
   "outputs": [],
   "source": [
    "# 함수 정의\n",
    "\n",
    "# 정의된 함수를 사용하기 위해서는 메모리에 로딩해야한다. -> 실행, import\n",
    "def say_hello() :\n",
    "    print('say')\n",
    "    print('hello')"
   ]
  },
  {
   "cell_type": "code",
   "execution_count": 5,
   "id": "2c5a991e",
   "metadata": {},
   "outputs": [
    {
     "name": "stdout",
     "output_type": "stream",
     "text": [
      "say\n",
      "hello\n"
     ]
    }
   ],
   "source": [
    "say_hello()    # 실행"
   ]
  },
  {
   "cell_type": "code",
   "execution_count": 6,
   "id": "7c73a0a2",
   "metadata": {},
   "outputs": [],
   "source": [
    "# 매개변수(parameter)가 있는 함수\n",
    "\n",
    "def say_hello2(name) :    # name(매개변수, parameter) : 호출한 곳으로부터 arg를 받을 변수\n",
    " :     greeting = f'{name}님 반갑습니다.'\n",
    "    print(greeting)"
   ]
  },
  {
   "cell_type": "code",
   "execution_count": 10,
   "id": "ea4367d8",
   "metadata": {},
   "outputs": [
    {
     "name": "stdout",
     "output_type": "stream",
     "text": [
      "최윤지님 반갑습니다.\n"
     ]
    }
   ],
   "source": [
    "say_hello2(\"최윤지\")    # 매개변수가 있는 함수 호출 시 반드시 값을 전달해줘야 한다."
   ]
  },
  {
   "cell_type": "code",
   "execution_count": 12,
   "id": "7afef0cb",
   "metadata": {},
   "outputs": [
    {
     "name": "stdout",
     "output_type": "stream",
     "text": [
      "아아님 반갑습니다.\n",
      "아바라님 반갑습니다.\n"
     ]
    }
   ],
   "source": [
    "# 재사용\n",
    "\n",
    "say_hello2(\"아아\")\n",
    "say_hello2(\"아바라\")"
   ]
  },
  {
   "cell_type": "code",
   "execution_count": 17,
   "id": "c333b81f",
   "metadata": {},
   "outputs": [],
   "source": [
    "# return값이 있는 함수\n",
    "\n",
    "def say_hello2(name, age):\n",
    "    greeting = f'{age}세인 {name}님 환영합니다.\\n'\n",
    "    return greeting    # 함수를 호출한 곳에 greeting결과 값을 반환"
   ]
  },
  {
   "cell_type": "code",
   "execution_count": 18,
   "id": "1ae936f4",
   "metadata": {},
   "outputs": [
    {
     "name": "stdout",
     "output_type": "stream",
     "text": [
      "20세인 최윤지님 환영합니다.\n",
      "30세인 지윤초님 환영합니다.\n",
      "\n"
     ]
    }
   ],
   "source": [
    "# 받은 return값을 변수에 대입하여 자유롭게 활용\n",
    "\n",
    "g1 = say_hello2('최윤지', 20)\n",
    "g2 = say_hello2('지윤초', 30)\n",
    "print(g1+g2)"
   ]
  },
  {
   "cell_type": "code",
   "execution_count": 38,
   "id": "7b59b654",
   "metadata": {},
   "outputs": [],
   "source": [
    "# param과 달리 리턴값은 1개만 가능. (처리결과가 여러개인 경우 자료구조로 묶어서 전달)\n",
    "\n",
    "# 두개의 값을 받아서 사칙연산 한 결과를 반환하는 함수\n",
    "def calc(num1, num2):\n",
    "    a = num1+num2\n",
    "    b = num1-num2\n",
    "    c = num1*num2\n",
    "    d = None\n",
    "    if num2 != 0 :\n",
    "        d = num1/num2\n",
    "    \n",
    "#     return [a, b, c, d]    # list 형식\n",
    "#     return a, b, c, d        # tuple 형식\n",
    "    return{'plus':a, 'minus':b, 'multyply':c, 'divide':d}    # dict 형식"
   ]
  },
  {
   "cell_type": "code",
   "execution_count": 39,
   "id": "7151277a",
   "metadata": {},
   "outputs": [
    {
     "name": "stdout",
     "output_type": "stream",
     "text": [
      "{'plus': 15, 'minus': 5, 'multyply': 50, 'divide': 2.0}\n",
      "덧셈결과:  15\n"
     ]
    }
   ],
   "source": [
    "result = calc(10, 5)\n",
    "print(result)\n",
    "\n",
    "print(\"덧셈결과: \", result['plus'])"
   ]
  },
  {
   "cell_type": "code",
   "execution_count": 40,
   "id": "17382154",
   "metadata": {},
   "outputs": [
    {
     "name": "stdout",
     "output_type": "stream",
     "text": [
      "plus minus multyply divide\n"
     ]
    }
   ],
   "source": [
    "# list형으로 받은 return값을 각각의 변수에 저장하고 싶을 땐 이렇게 해주면 됨\n",
    "\n",
    "r1, r2, r3, r4 = calc(20, 10)\n",
    "print(r1, r2, r3, r4)"
   ]
  },
  {
   "cell_type": "code",
   "execution_count": 43,
   "id": "deb88cbb",
   "metadata": {},
   "outputs": [
    {
     "ename": "NameError",
     "evalue": "name 'a' is not defined",
     "output_type": "error",
     "traceback": [
      "\u001b[0;31m---------------------------------------------------------------------------\u001b[0m",
      "\u001b[0;31mNameError\u001b[0m                                 Traceback (most recent call last)",
      "\u001b[0;32m<ipython-input-43-742264059e19>\u001b[0m in \u001b[0;36m<module>\u001b[0;34m\u001b[0m\n\u001b[1;32m      2\u001b[0m \u001b[0;34m\u001b[0m\u001b[0m\n\u001b[1;32m      3\u001b[0m \u001b[0mcalc\u001b[0m\u001b[0;34m(\u001b[0m\u001b[0;36m10\u001b[0m\u001b[0;34m,\u001b[0m \u001b[0;36m5\u001b[0m\u001b[0;34m)\u001b[0m\u001b[0;34m\u001b[0m\u001b[0;34m\u001b[0m\u001b[0m\n\u001b[0;32m----> 4\u001b[0;31m \u001b[0mprint\u001b[0m\u001b[0;34m(\u001b[0m\u001b[0ma\u001b[0m\u001b[0;34m,\u001b[0m \u001b[0mb\u001b[0m\u001b[0;34m,\u001b[0m \u001b[0mc\u001b[0m\u001b[0;34m,\u001b[0m \u001b[0md\u001b[0m\u001b[0;34m)\u001b[0m    \u001b[0;31m# a, b, c, d => calc()내의 지역변수\u001b[0m\u001b[0;34m\u001b[0m\u001b[0;34m\u001b[0m\u001b[0m\n\u001b[0m",
      "\u001b[0;31mNameError\u001b[0m: name 'a' is not defined"
     ]
    }
   ],
   "source": [
    "# Local Variable(지역 변수)함수 내에서 선언된 변수 => 선언한 함수 내에서 해당 함수가 실행되는 동안만 사용된다.\n",
    "\n",
    "calc(10, 5)\n",
    "print(a, b, c, d)    # a, b, c, d => calc()내의 지역변수"
   ]
  },
  {
   "cell_type": "markdown",
   "id": "dac4a960",
   "metadata": {},
   "source": [
    "## 매개변수와 관련된 문법"
   ]
  },
  {
   "cell_type": "markdown",
   "id": "881eb4c4",
   "metadata": {},
   "source": [
    "### Positional Parameter(Argument)\n",
    "* 일반적인 param, arg\n",
    "* param, arg 선언된 순서대로 값을 전달한다."
   ]
  },
  {
   "cell_type": "code",
   "execution_count": null,
   "id": "976f7058",
   "metadata": {},
   "outputs": [],
   "source": [
    "def print_info(name, age, address):\n",
    "    print(f\"이름: {name}, 나이: {age}, 주소: {address}\")"
   ]
  },
  {
   "cell_type": "code",
   "execution_count": 45,
   "id": "81d5b3f2",
   "metadata": {},
   "outputs": [
    {
     "name": "stdout",
     "output_type": "stream",
     "text": [
      "이름: 최윤지, 나이: 25, 주소: 서울\n"
     ]
    }
   ],
   "source": [
    "print_info(\"최윤지\", 25, \"서울\")    # 순서에 맞춰 값들을 전달"
   ]
  },
  {
   "cell_type": "code",
   "execution_count": 46,
   "id": "798adf60",
   "metadata": {},
   "outputs": [
    {
     "name": "stdout",
     "output_type": "stream",
     "text": [
      "이름: 서울, 나이: 최윤지, 주소: 25\n"
     ]
    }
   ],
   "source": [
    "print_info(\"서울\", \"최윤지\", 25)    # 순서 섞어서 값 전달"
   ]
  },
  {
   "cell_type": "code",
   "execution_count": 49,
   "id": "57e0b410",
   "metadata": {},
   "outputs": [
    {
     "ename": "TypeError",
     "evalue": "print_info() missing 2 required positional arguments: 'age' and 'address'",
     "output_type": "error",
     "traceback": [
      "\u001b[0;31m---------------------------------------------------------------------------\u001b[0m",
      "\u001b[0;31mTypeError\u001b[0m                                 Traceback (most recent call last)",
      "\u001b[0;32m<ipython-input-49-d640b0f6ef64>\u001b[0m in \u001b[0;36m<module>\u001b[0;34m\u001b[0m\n\u001b[0;32m----> 1\u001b[0;31m \u001b[0mprint_info\u001b[0m\u001b[0;34m(\u001b[0m\u001b[0;34m\"최윤지\"\u001b[0m\u001b[0;34m)\u001b[0m    \u001b[0;31m# arg와 param의 갯수를 동일시하게 전달해야한다.\u001b[0m\u001b[0;34m\u001b[0m\u001b[0;34m\u001b[0m\u001b[0m\n\u001b[0m",
      "\u001b[0;31mTypeError\u001b[0m: print_info() missing 2 required positional arguments: 'age' and 'address'"
     ]
    }
   ],
   "source": [
    "print_info(\"최윤지\")    # arg와 param의 갯수를 동일시하게 전달해야한다."
   ]
  },
  {
   "cell_type": "markdown",
   "id": "ae64c619",
   "metadata": {},
   "source": [
    "### 기본값이 있는 매개변수\n",
    "* 매개변수에 값을 대입. default값 설정\n",
    "    * 호출 시 값이 없으면 기본값을 사용"
   ]
  },
  {
   "cell_type": "code",
   "execution_count": 169,
   "id": "408c7329",
   "metadata": {},
   "outputs": [],
   "source": [
    "def print_info2(name=None, age=-1, address=None):\n",
    "    print(f\"이름: {name}, 나이: {age}, 주소: {address}\")"
   ]
  },
  {
   "cell_type": "code",
   "execution_count": 170,
   "id": "52d79ef0",
   "metadata": {},
   "outputs": [
    {
     "name": "stdout",
     "output_type": "stream",
     "text": [
      "이름: coz, 나이: 25, 주소: None\n"
     ]
    }
   ],
   "source": [
    "print_info2(\"coz\", 25)"
   ]
  },
  {
   "cell_type": "code",
   "execution_count": 56,
   "id": "c1f40b86",
   "metadata": {},
   "outputs": [
    {
     "name": "stdout",
     "output_type": "stream",
     "text": [
      "이름: None, 나이: -1, 주소: None\n"
     ]
    }
   ],
   "source": [
    "# name, age, address 전부 default값\n",
    "print_info2()"
   ]
  },
  {
   "cell_type": "code",
   "execution_count": 57,
   "id": "bc3a41fd",
   "metadata": {},
   "outputs": [
    {
     "name": "stdout",
     "output_type": "stream",
     "text": [
      "최윤지 30\n"
     ]
    }
   ],
   "source": [
    "# name, age(첫번째, 두번째)는 전달, address는 default값\n",
    "\n",
    "print(\"최윤지\", 30)"
   ]
  },
  {
   "cell_type": "code",
   "execution_count": 60,
   "id": "53d71864",
   "metadata": {},
   "outputs": [
    {
     "name": "stdout",
     "output_type": "stream",
     "text": [
      "이름: 코즈, 나이: -1, 주소: None\n"
     ]
    }
   ],
   "source": [
    "# name(첫번째)만 전달. age, address는 default값(두번째 매개변수 부터)\n",
    "\n",
    "print_info2(\"코즈\")"
   ]
  },
  {
   "cell_type": "code",
   "execution_count": 171,
   "id": "82f35109",
   "metadata": {},
   "outputs": [
    {
     "name": "stdout",
     "output_type": "stream",
     "text": [
      "이름: 부산, 나이: -1, 주소: None\n"
     ]
    }
   ],
   "source": [
    "# positional argument의 개념상 앞에있는 인자에 먼저 전달하기 때문에 뒷쪽의 매개변수에만 값을 전달할 수는 없다.\n",
    "\n",
    "print_info2('부산')"
   ]
  },
  {
   "cell_type": "code",
   "execution_count": 172,
   "id": "3083d609",
   "metadata": {},
   "outputs": [
    {
     "name": "stdout",
     "output_type": "stream",
     "text": [
      "이름: None, 나이: -1, 주소: 부산\n"
     ]
    }
   ],
   "source": [
    "# None과 음수도 arg로 선언 가능\n",
    "\n",
    "print_info2(None, -1, '부산')"
   ]
  },
  {
   "cell_type": "code",
   "execution_count": 63,
   "id": "b43baf70",
   "metadata": {},
   "outputs": [
    {
     "name": "stdout",
     "output_type": "stream",
     "text": [
      "이름: None, 나이: -1, 주소: 인천\n",
      "이름: 지윤초, 나이: 50, 주소: 대구\n"
     ]
    }
   ],
   "source": [
    "# 그러나 keyword argument 방식을 사용하면 뒷쪽의 매개변수에도 값을 전달할 수 있음\n",
    "# keyword argument => 매개변수를 지정해서 값을 전달하는 방식\n",
    "print_info2(address='인천')    # address(세번째)만 전달. name, age(첫, 두 번째)는 default값.\n",
    "\n",
    "\n",
    "# keyword argument를 사용하면 순서 상관 없이 대입 가능\n",
    "print_info2(address=\"대구\", name=\"지윤초\", age=50)"
   ]
  },
  {
   "cell_type": "code",
   "execution_count": 64,
   "id": "6f6c737e",
   "metadata": {},
   "outputs": [
    {
     "name": "stdout",
     "output_type": "stream",
     "text": [
      "이름: 최윤지, 나이: 20, 주소: None, 이메일: None\n",
      "이름: 지윤초, 나이: 30, 주소: None, 이메일: None\n"
     ]
    }
   ],
   "source": [
    "# 기본값이 없는 매개변수들을 먼저 선언하고 이어서 기본값 있는 매개변수들을 선언\n",
    "def print_info3(name, age, address=None, email=None):#, hobby):\n",
    "    print(f\"이름: {name}, 나이: {age}, 주소: {address}, 이메일: {email}\")\n",
    "\n",
    "# 기본값 없는 것과 있는 매개변수들이 섞여있는 경우\n",
    "# 기본값 없는 매개변수에는 값을 반드시 전달해야한다.\n",
    "# 기본갑 없는 매개변수: 필수 입력 사항\n",
    "# 기본값 있는 매개변수: 옵션 입력 사항\n",
    "\n",
    "print_info3(\"최윤지\", 20)    # positioning argument 방식\n",
    "print_info3(age=30, name=\"지윤초\")    # kwyeord argument 방식"
   ]
  },
  {
   "cell_type": "markdown",
   "id": "b8a754af",
   "metadata": {},
   "source": [
    "### 가변인자"
   ]
  },
  {
   "cell_type": "code",
   "execution_count": 70,
   "id": "373381d9",
   "metadata": {},
   "outputs": [],
   "source": [
    "#n개의 정수를 받고 합계를 return하는 함수\n",
    "  \n",
    "# 기존 방식\n",
    "def sum_function (num_list):     # argument: 자료구조(ex. list)\n",
    "    sum_value = 0\n",
    "    for v in num_list :\n",
    "        sum_value += v\n",
    "    return sum_value"
   ]
  },
  {
   "cell_type": "code",
   "execution_count": 72,
   "id": "5e7d69e2",
   "metadata": {},
   "outputs": [
    {
     "data": {
      "text/plain": [
       "55"
      ]
     },
     "execution_count": 72,
     "metadata": {},
     "output_type": "execute_result"
    }
   ],
   "source": [
    "result = sum_function([1, 2, 3, 4, 5, 6, 7, 8, 9, 10])\n",
    "result"
   ]
  },
  {
   "cell_type": "code",
   "execution_count": 73,
   "id": "370b48bc",
   "metadata": {},
   "outputs": [
    {
     "data": {
      "text/plain": [
       "60"
      ]
     },
     "execution_count": 73,
     "metadata": {},
     "output_type": "execute_result"
    }
   ],
   "source": [
    "r = sum_function([10, 20, 30])\n",
    "r"
   ]
  },
  {
   "cell_type": "code",
   "execution_count": 87,
   "id": "d71be0dd",
   "metadata": {},
   "outputs": [],
   "source": [
    "# 정수 n개의 값을 받아서 처리할 경우 사용\n",
    "# *변수명 : 튜플로 처리. 호출할 때는 전달할 값들(arg)을 나열해서 전달한다.\n",
    "\n",
    "def sum_function2(*num_list):    # 튜플 대입 가변인자\n",
    "    print(type(num_list), num_list)\n",
    "    sum_value = 0\n",
    "    for v in num_list :\n",
    "        sum_value += v\n",
    "    return sum_value"
   ]
  },
  {
   "cell_type": "code",
   "execution_count": 88,
   "id": "7cee4b55",
   "metadata": {},
   "outputs": [
    {
     "name": "stdout",
     "output_type": "stream",
     "text": [
      "<class 'tuple'> (1, 2, 3, 4, 5)\n",
      "15\n"
     ]
    }
   ],
   "source": [
    "r1 = sum_function2(1, 2, 3, 4, 5)    # tuple로 넘겨주면\n",
    "print(r1)    # tuple로 들어감"
   ]
  },
  {
   "cell_type": "code",
   "execution_count": 89,
   "id": "4c894906",
   "metadata": {},
   "outputs": [
    {
     "name": "stdout",
     "output_type": "stream",
     "text": [
      "<class 'tuple'> (1, 2, 3, 4, 5)\n",
      "15\n"
     ]
    }
   ],
   "source": [
    "sum_function2(1, 2, 3, 4, 5)\n",
    "print(r1)"
   ]
  },
  {
   "cell_type": "code",
   "execution_count": 90,
   "id": "3cbafe6a",
   "metadata": {},
   "outputs": [
    {
     "name": "stdout",
     "output_type": "stream",
     "text": [
      "<class 'tuple'> ()\n"
     ]
    },
    {
     "data": {
      "text/plain": [
       "0"
      ]
     },
     "execution_count": 90,
     "metadata": {},
     "output_type": "execute_result"
    }
   ],
   "source": [
    "sum_function2()"
   ]
  },
  {
   "cell_type": "code",
   "execution_count": 91,
   "id": "190c008f",
   "metadata": {},
   "outputs": [
    {
     "name": "stdout",
     "output_type": "stream",
     "text": [
      "<class 'tuple'> (1, 2, 3)\n"
     ]
    },
    {
     "data": {
      "text/plain": [
       "6"
      ]
     },
     "execution_count": 91,
     "metadata": {},
     "output_type": "execute_result"
    }
   ],
   "source": [
    "sum_function2(1, 2, 3)"
   ]
  },
  {
   "cell_type": "code",
   "execution_count": 92,
   "id": "74ea5dec",
   "metadata": {},
   "outputs": [
    {
     "name": "stdout",
     "output_type": "stream",
     "text": [
      "<class 'tuple'> (1, 2, 3, 4, 5, 6, 109, 209, 309)\n"
     ]
    },
    {
     "data": {
      "text/plain": [
       "648"
      ]
     },
     "execution_count": 92,
     "metadata": {},
     "output_type": "execute_result"
    }
   ],
   "source": [
    "sum_function2(1, 2, 3, 4, 5, 6, 109, 209, 309)"
   ]
  },
  {
   "cell_type": "code",
   "execution_count": 93,
   "id": "c6f21e9f",
   "metadata": {},
   "outputs": [],
   "source": [
    "# 가변인자 : **변수명. dict로 처리. 호출할 때는 keyword argument 형식으로 전달.\n",
    "\n",
    "def print_info(**info):\n",
    "    print(type(info), info)\n",
    "    return_value =''           # 몇 개가 올지 모르기 때문에 반복문을 통해 값을 \n",
    "    for key, value in info.items():\n",
    "        return_value = f\"{return_value}, {key}:{value}\"\n",
    "    return return_value"
   ]
  },
  {
   "cell_type": "code",
   "execution_count": 94,
   "id": "3e70c37d",
   "metadata": {},
   "outputs": [
    {
     "name": "stdout",
     "output_type": "stream",
     "text": [
      "<class 'dict'> {}\n"
     ]
    },
    {
     "data": {
      "text/plain": [
       "''"
      ]
     },
     "execution_count": 94,
     "metadata": {},
     "output_type": "execute_result"
    }
   ],
   "source": [
    "print_info()"
   ]
  },
  {
   "cell_type": "code",
   "execution_count": 97,
   "id": "84b35178",
   "metadata": {},
   "outputs": [
    {
     "name": "stdout",
     "output_type": "stream",
     "text": [
      "<class 'dict'> {'이름': '최윤지'}\n",
      "<class 'dict'> {'나이': 20, '주소': '서울'}\n",
      ", 이름:최윤지\n",
      ", 나이:20, 주소:서울\n"
     ]
    }
   ],
   "source": [
    "v1 = print_info(이름='최윤지')\n",
    "v2 = print_info(나이=20, 주소='서울')\n",
    "# key='value' 형태로 전송하면 python실행환경이 알아서 key:value모양의 dict형식으로 바꿔줌\n",
    "\n",
    "print(v1)\n",
    "print(v2)"
   ]
  },
  {
   "cell_type": "code",
   "execution_count": 98,
   "id": "5ea8bf59",
   "metadata": {},
   "outputs": [
    {
     "name": "stdout",
     "output_type": "stream",
     "text": [
      "<class 'dict'> {'이름': '최윤지', '주소': '서울', '이메일': 'a@a.com', '취미': '독서'}\n",
      ", 이름:최윤지, 주소:서울, 이메일:a@a.com, 취미:독서\n"
     ]
    }
   ],
   "source": [
    "print(print_info(이름='최윤지', 주소='서울', 이메일='a@a.com', 취미='독서'))"
   ]
  },
  {
   "cell_type": "code",
   "execution_count": 103,
   "id": "4151cfb9",
   "metadata": {},
   "outputs": [
    {
     "ename": "SyntaxError",
     "evalue": "invalid syntax (<ipython-input-103-1b58f32eaf5e>, line 1)",
     "output_type": "error",
     "traceback": [
      "\u001b[0;36m  File \u001b[0;32m\"<ipython-input-103-1b58f32eaf5e>\"\u001b[0;36m, line \u001b[0;32m1\u001b[0m\n\u001b[0;31m    def test_fn(*a, *b, *c):    # 가변인자는 한 함수당 종류별(*, **)로 하나씩만 선언할 수 있음.\u001b[0m\n\u001b[0m                    ^\u001b[0m\n\u001b[0;31mSyntaxError\u001b[0m\u001b[0;31m:\u001b[0m invalid syntax\n"
     ]
    }
   ],
   "source": [
    "def test_fn(*a, *b, *c):    # 가변인자는 한 함수당 종류별(*, **)로 하나씩만 선언할 수 있음.\n",
    "    pass"
   ]
  },
  {
   "cell_type": "code",
   "execution_count": 104,
   "id": "063635f9",
   "metadata": {},
   "outputs": [],
   "source": [
    "def test_fn2(*args, **kwargs):\n",
    "    pass"
   ]
  },
  {
   "cell_type": "code",
   "execution_count": 105,
   "id": "7f4b84f4",
   "metadata": {},
   "outputs": [],
   "source": [
    "def test_fn3(var1, var2, *args, **kwargs):    #일반 변수와 같이 선언 할 경우 가변인자는 맨 끝에 위치해야함\n",
    "    pass"
   ]
  },
  {
   "cell_type": "code",
   "execution_count": null,
   "id": "0c27b59c",
   "metadata": {},
   "outputs": [],
   "source": []
  },
  {
   "cell_type": "markdown",
   "id": "c89d24a6",
   "metadata": {},
   "source": [
    "# 함수는 일급시민객체\n",
    "\n",
    "- 함수를 변수에 할당하는 것\n",
    "- 함수를 (다른)함수 호출할 때 argument로 전달할 수 있는 것\n",
    "- 함수의 return값으로 함수를 반환할 수 있는 것\n",
    "- ! 함수도 값으로 처리될 수 있다. !"
   ]
  },
  {
   "cell_type": "code",
   "execution_count": 108,
   "id": "6f9fe182",
   "metadata": {},
   "outputs": [],
   "source": [
    "# 함수 정의\n",
    "\n",
    "def my_fn(name=None):\n",
    "    print(str(name)+\"님 안냐세요\")   # print()는 str만 올 수 있기 때문에 None타입 str()처리 해줌"
   ]
  },
  {
   "cell_type": "code",
   "execution_count": 111,
   "id": "37508c74",
   "metadata": {},
   "outputs": [
    {
     "name": "stdout",
     "output_type": "stream",
     "text": [
      "최윤지님 안냐세요\n",
      "None님 안냐세요\n"
     ]
    }
   ],
   "source": [
    "# r1, r2에는 my_fn()의 return값이 저장\n",
    "\n",
    "r1 = my_fn('최윤지')\n",
    "r2 = my_fn()"
   ]
  },
  {
   "cell_type": "code",
   "execution_count": 113,
   "id": "089d893c",
   "metadata": {},
   "outputs": [
    {
     "name": "stdout",
     "output_type": "stream",
     "text": [
      "지윤초님 안냐세요\n"
     ]
    }
   ],
   "source": [
    "# 함수 자체를 your_fn에 저장\n",
    "\n",
    "your_fn = my_fn\n",
    "your_fn('지윤초')"
   ]
  },
  {
   "cell_type": "code",
   "execution_count": 114,
   "id": "4d6e189f",
   "metadata": {},
   "outputs": [
    {
     "name": "stdout",
     "output_type": "stream",
     "text": [
      "None님 안냐세요\n"
     ]
    }
   ],
   "source": [
    "test_fn = your_fn\n",
    "test_fn()"
   ]
  },
  {
   "cell_type": "code",
   "execution_count": 175,
   "id": "c28df669",
   "metadata": {},
   "outputs": [],
   "source": [
    "def calculator(func):\n",
    "    num1, num2 = 10, 20\n",
    "    result = func(num1, num2)\n",
    "    print(\"calc() 결과: \", result)"
   ]
  },
  {
   "cell_type": "code",
   "execution_count": 143,
   "id": "e3d8a765",
   "metadata": {},
   "outputs": [],
   "source": [
    "def plus(n1, n2):\n",
    "    return n1+n2\n",
    "\n",
    "def minus(n1, n2):\n",
    "    return n1-n2\n",
    "\n",
    "def multi(n1, n2):\n",
    "    return n1*n2"
   ]
  },
  {
   "cell_type": "code",
   "execution_count": 144,
   "id": "bccc70c0",
   "metadata": {},
   "outputs": [
    {
     "name": "stdout",
     "output_type": "stream",
     "text": [
      "calc() 결과:  30\n",
      "calc() 결과:  -10\n",
      "calc() 결과:  200\n"
     ]
    }
   ],
   "source": [
    "calculator(plus)\n",
    "calculator(minus)\n",
    "calculator(multi)"
   ]
  },
  {
   "cell_type": "code",
   "execution_count": 176,
   "id": "f8837cba",
   "metadata": {},
   "outputs": [],
   "source": [
    "# 처리할 식이 있으나 처리할 값(지역변수)가 없으니 매개변수로 받는 것\n",
    "def calc(num1, num2):\n",
    "    a = num1 + num2\n",
    "    b = num1 - num2\n",
    "    c = num1 * num2\n",
    "    print(a, b, c)"
   ]
  },
  {
   "cell_type": "code",
   "execution_count": 177,
   "id": "a4ef54d9",
   "metadata": {},
   "outputs": [
    {
     "name": "stdout",
     "output_type": "stream",
     "text": [
      "30 -10 200\n"
     ]
    }
   ],
   "source": [
    "calc(10, 20)"
   ]
  },
  {
   "cell_type": "markdown",
   "id": "df6d2a9f",
   "metadata": {},
   "source": [
    "## lambda 표현식\n",
    "- 함수를 단일 구문으로 작성하는 방법"
   ]
  },
  {
   "cell_type": "code",
   "execution_count": 145,
   "id": "01b3e624",
   "metadata": {},
   "outputs": [],
   "source": [
    "def plus(n1, n2):\n",
    "    return n1+n2"
   ]
  },
  {
   "cell_type": "code",
   "execution_count": 146,
   "id": "9ff54db3",
   "metadata": {},
   "outputs": [
    {
     "data": {
      "text/plain": [
       "3"
      ]
     },
     "execution_count": 146,
     "metadata": {},
     "output_type": "execute_result"
    }
   ],
   "source": [
    "# lambda [매개변수] : return값으로 처리될 결과(알아서 계산해서 return 해줌)\n",
    "\n",
    "# 두개의 값을 받아서 합한 값을 반환하는 함수\n",
    "x = lambda n1, n2 : n1+n2\n",
    "x(1, 2)"
   ]
  },
  {
   "cell_type": "code",
   "execution_count": 148,
   "id": "98d88ba2",
   "metadata": {},
   "outputs": [
    {
     "data": {
      "text/plain": [
       "100"
      ]
     },
     "execution_count": 148,
     "metadata": {},
     "output_type": "execute_result"
    }
   ],
   "source": [
    "# 하나의 값을 받아서 제곱한 값을 반환하는 함수\n",
    "y = lambda v : v**2\n",
    "\n",
    "# y 자체가 하나의 함수가 된 상태\n",
    "y(10)"
   ]
  },
  {
   "cell_type": "code",
   "execution_count": 149,
   "id": "11e9f1aa",
   "metadata": {},
   "outputs": [
    {
     "name": "stdout",
     "output_type": "stream",
     "text": [
      "calc() 결과:  30\n"
     ]
    }
   ],
   "source": [
    "calculator(lambda n1, n2 : n1+n2)"
   ]
  },
  {
   "cell_type": "code",
   "execution_count": 150,
   "id": "5ab1b973",
   "metadata": {},
   "outputs": [
    {
     "name": "stdout",
     "output_type": "stream",
     "text": [
      "calc() 결과:  0.5\n"
     ]
    }
   ],
   "source": [
    "calculator(lambda n1, n2 : n1/n2)"
   ]
  },
  {
   "cell_type": "code",
   "execution_count": 152,
   "id": "2faf96a6",
   "metadata": {},
   "outputs": [],
   "source": [
    "def fn(num):\n",
    "    print(num)"
   ]
  },
  {
   "cell_type": "code",
   "execution_count": 178,
   "id": "33e5d893",
   "metadata": {},
   "outputs": [
    {
     "data": {
      "text/plain": [
       "[100, 200, 300]"
      ]
     },
     "execution_count": 178,
     "metadata": {},
     "output_type": "execute_result"
    }
   ],
   "source": [
    "# mapping\n",
    "\n",
    "# 각 원소에 * 10 후 반환\n",
    "l = [10, 20, 30]\n",
    "\n",
    "# 방법 1\n",
    "def m10(x):\n",
    "    return x*10\n",
    "\n",
    "list(map(m10, l))    # -> 구문: map(계산식, Iterable)"
   ]
  },
  {
   "cell_type": "code",
   "execution_count": 179,
   "id": "75dee18c",
   "metadata": {},
   "outputs": [
    {
     "data": {
      "text/plain": [
       "[100, 200, 300]"
      ]
     },
     "execution_count": 179,
     "metadata": {},
     "output_type": "execute_result"
    }
   ],
   "source": [
    "# 방법 2\n",
    "list(map(lambda x:x*10, l))   # 매개변수는 0개 이상 가능"
   ]
  },
  {
   "cell_type": "markdown",
   "id": "43dd7ebe",
   "metadata": {},
   "source": [
    "## docstring\n",
    "- 함수(or class, method) 구현시 함수에 대한 설명을 문자열로 정의하는 것\n",
    "- 선언부와 구현부 사이에 여러줄 문자열(''' ''')을 이용해서 작성\n",
    "- 주로 아래것들을 작성함\n",
    "   - 함수에 대한 설명\n",
    "   - 매개변수에 대한 설명\n",
    "   - return값에 대한 설명\n",
    "   - 발생 Exception(Error)에 대한 설명"
   ]
  },
  {
   "cell_type": "code",
   "execution_count": 3,
   "id": "e78cfb08",
   "metadata": {},
   "outputs": [],
   "source": [
    "def print_info(name, age):\n",
    "    \"\"\"\n",
    "    회원 정보를 출력하는 함수\n",
    "    회원의 이름과 나이를 받아서 출력하고 어쩌고 설명\n",
    "    \n",
    "    [Parameter]\n",
    "        name: string - 회원의 이름\n",
    "        age: int - 회원의 나이\n",
    "    [return value]\n",
    "        int - 나이의 10배 값\n",
    "    [Exception]\n",
    "        발생할 가능성이 있는 에러에 대한 설명\n",
    "    \"\"\"\n",
    "    printf(f'이름:{name}, 나이: {age}')\n",
    "    return age*10"
   ]
  },
  {
   "cell_type": "code",
   "execution_count": 2,
   "id": "f13af168",
   "metadata": {
    "scrolled": true
   },
   "outputs": [],
   "source": [
    "# 주피터 노트에서 docstring을 조회하는 명령어/단축키\n",
    "# 명령어 - 함수명?\n",
    "# 단축키 - 함수명을 작성한 상태에서 Shift + Tab (팝업으로 뜸)\n",
    "\n",
    "print_info"
   ]
  },
  {
   "cell_type": "code",
   "execution_count": null,
   "id": "cb11db0f",
   "metadata": {},
   "outputs": [],
   "source": []
  }
 ],
 "metadata": {
  "kernelspec": {
   "display_name": "Python 3",
   "language": "python",
   "name": "python3"
  },
  "language_info": {
   "codemirror_mode": {
    "name": "ipython",
    "version": 3
   },
   "file_extension": ".py",
   "mimetype": "text/x-python",
   "name": "python",
   "nbconvert_exporter": "python",
   "pygments_lexer": "ipython3",
   "version": "3.8.8"
  }
 },
 "nbformat": 4,
 "nbformat_minor": 5
}
