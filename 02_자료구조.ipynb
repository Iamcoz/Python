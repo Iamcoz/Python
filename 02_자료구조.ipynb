{
 "cells": [
  {
   "cell_type": "code",
   "execution_count": 4,
   "id": "222707d7",
   "metadata": {},
   "outputs": [
    {
     "name": "stdout",
     "output_type": "stream",
     "text": [
      "[1, 2, 3]\n",
      "[3, 2, 1]\n"
     ]
    }
   ],
   "source": [
    "#정렬 - sorted(리스트) : 원본 리스트를 변경하지 않고 정렬한 새로운 리스트를 반환\n",
    "l1 = [1, 2, 3]\n",
    "\n",
    "print(sorted(l1))   # 오름차순\n",
    "print(sorted(l1, reverse=True))   #내림차순"
   ]
  },
  {
   "cell_type": "code",
   "execution_count": 6,
   "id": "ac676f13",
   "metadata": {},
   "outputs": [
    {
     "data": {
      "text/plain": [
       "[1, 2, 3]"
      ]
     },
     "execution_count": 6,
     "metadata": {},
     "output_type": "execute_result"
    }
   ],
   "source": [
    "# 정렬 - 리스트.sort() : 원본 리스트 자체를 정렬한다.\n",
    "l1.sort()\n",
    "print(l1)"
   ]
  },
  {
   "cell_type": "code",
   "execution_count": 7,
   "id": "7489e494",
   "metadata": {},
   "outputs": [
    {
     "data": {
      "text/plain": [
       "[3, 2, 1]"
      ]
     },
     "execution_count": 7,
     "metadata": {},
     "output_type": "execute_result"
    }
   ],
   "source": [
    "l1.sort(reverse=True)\n",
    "l1"
   ]
  },
  {
   "cell_type": "code",
   "execution_count": 8,
   "id": "6467a903",
   "metadata": {},
   "outputs": [],
   "source": [
    "#index로 원소 삭제 : del"
   ]
  },
  {
   "cell_type": "markdown",
   "id": "3e2a706e",
   "metadata": {},
   "source": [
    "# Tuple (튜플)"
   ]
  },
  {
   "cell_type": "code",
   "execution_count": 9,
   "id": "aa206081",
   "metadata": {},
   "outputs": [],
   "source": [
    "t1 = (1, 2, 3, 4, 5)  # 소괄호로 묶는다.\n",
    "t2 = 1, 2, 3, 4, 5    # 괄호 생략 가능"
   ]
  },
  {
   "cell_type": "code",
   "execution_count": 10,
   "id": "63879c28",
   "metadata": {},
   "outputs": [
    {
     "data": {
      "text/plain": [
       "(1, 2, 3, 4, 5)"
      ]
     },
     "execution_count": 10,
     "metadata": {},
     "output_type": "execute_result"
    }
   ],
   "source": [
    "t1"
   ]
  },
  {
   "cell_type": "code",
   "execution_count": 11,
   "id": "a23fa274",
   "metadata": {},
   "outputs": [
    {
     "data": {
      "text/plain": [
       "(1, 2, 3, 4, 5)"
      ]
     },
     "execution_count": 11,
     "metadata": {},
     "output_type": "execute_result"
    }
   ],
   "source": [
    "t2"
   ]
  },
  {
   "cell_type": "code",
   "execution_count": 12,
   "id": "6e4e7bff",
   "metadata": {},
   "outputs": [
    {
     "data": {
      "text/plain": [
       "(10, '가', True)"
      ]
     },
     "execution_count": 12,
     "metadata": {},
     "output_type": "execute_result"
    }
   ],
   "source": [
    "t3 = 10, '가', True\n",
    "t3"
   ]
  },
  {
   "cell_type": "code",
   "execution_count": 13,
   "id": "d49dd54c",
   "metadata": {},
   "outputs": [
    {
     "data": {
      "text/plain": [
       "(100, int, tuple)"
      ]
     },
     "execution_count": 13,
     "metadata": {},
     "output_type": "execute_result"
    }
   ],
   "source": [
    "t4 = (100)                # 튜플 X\n",
    "t4, type(t4), type(t3)    # -> 변수에만 넣지 않았다 뿐이지 이것도 튜플임"
   ]
  },
  {
   "cell_type": "code",
   "execution_count": 15,
   "id": "71a8e2ef",
   "metadata": {},
   "outputs": [
    {
     "name": "stdout",
     "output_type": "stream",
     "text": [
      "(100,) (100,)\n",
      "<class 'tuple'> <class 'tuple'>\n"
     ]
    }
   ],
   "source": [
    "t5 = (100,)    # 튜플 O\n",
    "t6 = 100,      # 튜플 O\n",
    "print(t5, t6)\n",
    "print(type(t5), type(t6))"
   ]
  },
  {
   "cell_type": "markdown",
   "id": "975490ab",
   "metadata": {},
   "source": [
    "### "
   ]
  },
  {
   "cell_type": "markdown",
   "id": "2e03a01c",
   "metadata": {},
   "source": [
    "### 튜플 대입"
   ]
  },
  {
   "cell_type": "code",
   "execution_count": 17,
   "id": "f3f75d02",
   "metadata": {},
   "outputs": [
    {
     "name": "stdout",
     "output_type": "stream",
     "text": [
      "홍길동 30 서울\n"
     ]
    }
   ],
   "source": [
    "name, age, address = ('홍길동', 30, '서울') # 튜플 대입\n",
    "print(name, age, address)\n",
    "\n",
    "# name, age, address = ['홍길동', 30, '서울'] # 리스트 대입"
   ]
  },
  {
   "cell_type": "code",
   "execution_count": 19,
   "id": "aa3eba08",
   "metadata": {},
   "outputs": [
    {
     "data": {
      "text/plain": [
       "(100, 20, 8)"
      ]
     },
     "execution_count": 19,
     "metadata": {},
     "output_type": "execute_result"
    }
   ],
   "source": [
    "t7 = 100, 4, 8, 20, 1, 8\n",
    "t7[0], t7[3], t7[5]"
   ]
  },
  {
   "cell_type": "code",
   "execution_count": 21,
   "id": "81803fa5",
   "metadata": {},
   "outputs": [
    {
     "ename": "TypeError",
     "evalue": "'tuple' object does not support item assignment",
     "output_type": "error",
     "traceback": [
      "\u001b[0;31m---------------------------------------------------------------------------\u001b[0m",
      "\u001b[0;31mTypeError\u001b[0m                                 Traceback (most recent call last)",
      "\u001b[0;32m<ipython-input-21-59dc34964a1e>\u001b[0m in \u001b[0;36m<module>\u001b[0;34m\u001b[0m\n\u001b[0;32m----> 1\u001b[0;31m \u001b[0mt7\u001b[0m\u001b[0;34m[\u001b[0m\u001b[0;36m0\u001b[0m\u001b[0;34m]\u001b[0m \u001b[0;34m=\u001b[0m \u001b[0;36m40\u001b[0m \u001b[0;31m# 변경 불가능\u001b[0m\u001b[0;34m\u001b[0m\u001b[0;34m\u001b[0m\u001b[0m\n\u001b[0m",
      "\u001b[0;31mTypeError\u001b[0m: 'tuple' object does not support item assignment"
     ]
    }
   ],
   "source": [
    "t7[0] = 40   # 변경 불가능"
   ]
  },
  {
   "cell_type": "code",
   "execution_count": 22,
   "id": "96666d88",
   "metadata": {},
   "outputs": [
    {
     "data": {
      "text/plain": [
       "(100, 8, 1)"
      ]
     },
     "execution_count": 22,
     "metadata": {},
     "output_type": "execute_result"
    }
   ],
   "source": [
    "t7[::2]"
   ]
  },
  {
   "cell_type": "code",
   "execution_count": 23,
   "id": "1fb8b706",
   "metadata": {},
   "outputs": [
    {
     "data": {
      "text/plain": [
       "(8, 1, 20, 8, 4, 100)"
      ]
     },
     "execution_count": 23,
     "metadata": {},
     "output_type": "execute_result"
    }
   ],
   "source": [
    "t7[::-1]"
   ]
  },
  {
   "cell_type": "code",
   "execution_count": 24,
   "id": "95e0637a",
   "metadata": {},
   "outputs": [
    {
     "data": {
      "text/plain": [
       "20"
      ]
     },
     "execution_count": 24,
     "metadata": {},
     "output_type": "execute_result"
    }
   ],
   "source": [
    "t7[-3]"
   ]
  },
  {
   "cell_type": "markdown",
   "id": "6662be57",
   "metadata": {},
   "source": [
    "### 연산자"
   ]
  },
  {
   "cell_type": "code",
   "execution_count": 26,
   "id": "8beefc5f",
   "metadata": {},
   "outputs": [
    {
     "name": "stdout",
     "output_type": "stream",
     "text": [
      "False\n",
      "True\n"
     ]
    }
   ],
   "source": [
    "print(10 in t7)\n",
    "print(8 in t7)"
   ]
  },
  {
   "cell_type": "code",
   "execution_count": 27,
   "id": "bcca3707",
   "metadata": {},
   "outputs": [
    {
     "name": "stdout",
     "output_type": "stream",
     "text": [
      "True\n",
      "False\n"
     ]
    }
   ],
   "source": [
    "print(10 not in t7)\n",
    "print(8 not in t7)"
   ]
  },
  {
   "cell_type": "code",
   "execution_count": 28,
   "id": "bf12c7a7",
   "metadata": {},
   "outputs": [
    {
     "data": {
      "text/plain": [
       "(1, 2, 3, 4, 5, 1, 2, 3, 4, 5)"
      ]
     },
     "execution_count": 28,
     "metadata": {},
     "output_type": "execute_result"
    }
   ],
   "source": [
    "t1 + t2"
   ]
  },
  {
   "cell_type": "code",
   "execution_count": 29,
   "id": "ec533bb8",
   "metadata": {},
   "outputs": [
    {
     "data": {
      "text/plain": [
       "(1, 2, 3, 4, 5, 1, 2, 3, 4, 5)"
      ]
     },
     "execution_count": 29,
     "metadata": {},
     "output_type": "execute_result"
    }
   ],
   "source": [
    "t1*2"
   ]
  },
  {
   "cell_type": "markdown",
   "id": "460306b5",
   "metadata": {},
   "source": [
    "# 딕셔너리"
   ]
  },
  {
   "cell_type": "code",
   "execution_count": null,
   "id": "ae2b6ed1",
   "metadata": {},
   "outputs": [],
   "source": [
    "# 생성\n",
    "\n",
    "person1 = {\"name\":\"최윤지\", \"age\":20, \"address\":\"서울\"}\n",
    "person2 = {\"age\":30, \"address\":\"설\", \"name\":\"윤지\"}"
   ]
  },
  {
   "cell_type": "code",
   "execution_count": 35,
   "id": "9231d48d",
   "metadata": {},
   "outputs": [
    {
     "name": "stdout",
     "output_type": "stream",
     "text": [
      "최윤지 윤지\n",
      "20 30\n"
     ]
    }
   ],
   "source": [
    "# 조회\n",
    "\n",
    "print(person1['name'], person2['name'])\n",
    "print(person1['age'], person2['age'])"
   ]
  },
  {
   "cell_type": "code",
   "execution_count": 37,
   "id": "229cbc26",
   "metadata": {},
   "outputs": [
    {
     "data": {
      "text/plain": [
       "{'name': '지윤최', 'age': 20, 'address': '서울'}"
      ]
     },
     "execution_count": 37,
     "metadata": {},
     "output_type": "execute_result"
    }
   ],
   "source": [
    "# 변경\n",
    "\n",
    "person1['name'] = \"지윤최\"\n",
    "person1"
   ]
  },
  {
   "cell_type": "code",
   "execution_count": 38,
   "id": "3c6b3e53",
   "metadata": {},
   "outputs": [
    {
     "data": {
      "text/plain": [
       "{'name': '지윤최', 'age': 20, 'address': '서울', 'tel': '010-1234-5678'}"
      ]
     },
     "execution_count": 38,
     "metadata": {},
     "output_type": "execute_result"
    }
   ],
   "source": [
    "# 추가\n",
    "\n",
    "person1['tel'] = '010-1234-5678'\n",
    "person1"
   ]
  },
  {
   "cell_type": "code",
   "execution_count": 39,
   "id": "bb44857e",
   "metadata": {},
   "outputs": [
    {
     "ename": "KeyError",
     "evalue": "'email'",
     "output_type": "error",
     "traceback": [
      "\u001b[0;31m---------------------------------------------------------------------------\u001b[0m",
      "\u001b[0;31mKeyError\u001b[0m                                  Traceback (most recent call last)",
      "\u001b[0;32m<ipython-input-39-32442190f985>\u001b[0m in \u001b[0;36m<module>\u001b[0;34m\u001b[0m\n\u001b[0;32m----> 1\u001b[0;31m \u001b[0mperson1\u001b[0m\u001b[0;34m[\u001b[0m\u001b[0;34m'email'\u001b[0m\u001b[0;34m]\u001b[0m\u001b[0;34m\u001b[0m\u001b[0;34m\u001b[0m\u001b[0m\n\u001b[0m",
      "\u001b[0;31mKeyError\u001b[0m: 'email'"
     ]
    }
   ],
   "source": [
    "person1['email']   # KeyError"
   ]
  },
  {
   "cell_type": "code",
   "execution_count": 41,
   "id": "8e49ae3d",
   "metadata": {},
   "outputs": [
    {
     "name": "stdout",
     "output_type": "stream",
     "text": [
      "30\n"
     ]
    }
   ],
   "source": [
    "# dictionaey.get('key') : 조회\n",
    "# 없는 key값으로 조회하면 None(default)을 반환하지만 반환할 값(업슴)을 설정할 수도 있다.\n",
    "v = person2.get('age', \"업슴\")\n",
    "print(v)"
   ]
  },
  {
   "cell_type": "code",
   "execution_count": 42,
   "id": "cc0688c4",
   "metadata": {},
   "outputs": [
    {
     "data": {
      "text/plain": [
       "(4, 3)"
      ]
     },
     "execution_count": 42,
     "metadata": {},
     "output_type": "execute_result"
    }
   ],
   "source": [
    "len(person1), len(person2)"
   ]
  },
  {
   "cell_type": "code",
   "execution_count": 44,
   "id": "37f44b2f",
   "metadata": {},
   "outputs": [
    {
     "data": {
      "text/plain": [
       "False"
      ]
     },
     "execution_count": 44,
     "metadata": {},
     "output_type": "execute_result"
    }
   ],
   "source": [
    "'최윤지' in person1"
   ]
  },
  {
   "cell_type": "code",
   "execution_count": 45,
   "id": "d89eb38f",
   "metadata": {},
   "outputs": [
    {
     "data": {
      "text/plain": [
       "True"
      ]
     },
     "execution_count": 45,
     "metadata": {},
     "output_type": "execute_result"
    }
   ],
   "source": [
    "'name' in person1"
   ]
  },
  {
   "cell_type": "markdown",
   "id": "715753f0",
   "metadata": {},
   "source": [
    "### 주요 메소드"
   ]
  },
  {
   "cell_type": "code",
   "execution_count": 47,
   "id": "48b1d30a",
   "metadata": {},
   "outputs": [
    {
     "data": {
      "text/plain": [
       "'지윤최'"
      ]
     },
     "execution_count": 47,
     "metadata": {},
     "output_type": "execute_result"
    }
   ],
   "source": [
    "person1.pop('name')"
   ]
  },
  {
   "cell_type": "code",
   "execution_count": 54,
   "id": "94df0570",
   "metadata": {},
   "outputs": [
    {
     "data": {
      "text/plain": [
       "{'address': '서울', 'tel': '010-1234-5678'}"
      ]
     },
     "execution_count": 54,
     "metadata": {},
     "output_type": "execute_result"
    }
   ],
   "source": [
    "person1"
   ]
  },
  {
   "cell_type": "code",
   "execution_count": 56,
   "id": "34acec8f",
   "metadata": {},
   "outputs": [],
   "source": [
    "del person1['tel']"
   ]
  },
  {
   "cell_type": "code",
   "execution_count": 57,
   "id": "b81f4968",
   "metadata": {},
   "outputs": [
    {
     "data": {
      "text/plain": [
       "{'address': '서울'}"
      ]
     },
     "execution_count": 57,
     "metadata": {},
     "output_type": "execute_result"
    }
   ],
   "source": [
    "person1"
   ]
  },
  {
   "cell_type": "code",
   "execution_count": 58,
   "id": "d1262f1b",
   "metadata": {},
   "outputs": [
    {
     "data": {
      "text/plain": [
       "dict_items([('address', '서울')])"
      ]
     },
     "execution_count": 58,
     "metadata": {},
     "output_type": "execute_result"
    }
   ],
   "source": [
    "person1.items()  # 리스트 형식으로 반환해줌"
   ]
  },
  {
   "cell_type": "code",
   "execution_count": 59,
   "id": "5c61c4c2",
   "metadata": {},
   "outputs": [
    {
     "data": {
      "text/plain": [
       "dict_keys(['address'])"
      ]
     },
     "execution_count": 59,
     "metadata": {},
     "output_type": "execute_result"
    }
   ],
   "source": [
    "person1.keys()   # key만 반환"
   ]
  },
  {
   "cell_type": "code",
   "execution_count": 60,
   "id": "7b7c5a7f",
   "metadata": {},
   "outputs": [
    {
     "data": {
      "text/plain": [
       "dict_values(['서울'])"
      ]
     },
     "execution_count": 60,
     "metadata": {},
     "output_type": "execute_result"
    }
   ],
   "source": [
    "person1.values()  # value만 반환"
   ]
  },
  {
   "cell_type": "markdown",
   "id": "0ffb0e49",
   "metadata": {},
   "source": [
    "# Set (집합)"
   ]
  },
  {
   "cell_type": "code",
   "execution_count": 65,
   "id": "72375b24",
   "metadata": {},
   "outputs": [
    {
     "data": {
      "text/plain": [
       "{1, 2, 3, 'a'}"
      ]
     },
     "execution_count": 65,
     "metadata": {},
     "output_type": "execute_result"
    }
   ],
   "source": [
    "s1 = {1, 1, 1, 2, 2, 2, 3, 3, 3, 'a', 'a', 'a'}\n",
    "s1"
   ]
  },
  {
   "cell_type": "code",
   "execution_count": 66,
   "id": "e5c46d3b",
   "metadata": {},
   "outputs": [
    {
     "name": "stdout",
     "output_type": "stream",
     "text": [
      "{1}\n",
      "{0}\n"
     ]
    }
   ],
   "source": [
    "s2 = {1, True}\n",
    "s3 = {0, False}\n",
    "print(s2)\n",
    "print(s3)"
   ]
  },
  {
   "cell_type": "code",
   "execution_count": 67,
   "id": "8deb38f5",
   "metadata": {},
   "outputs": [
    {
     "data": {
      "text/plain": [
       "{1, 2, 3, 'a'}"
      ]
     },
     "execution_count": 67,
     "metadata": {},
     "output_type": "execute_result"
    }
   ],
   "source": [
    "s1"
   ]
  },
  {
   "cell_type": "code",
   "execution_count": 68,
   "id": "b90077ce",
   "metadata": {},
   "outputs": [
    {
     "ename": "TypeError",
     "evalue": "'set' object is not subscriptable",
     "output_type": "error",
     "traceback": [
      "\u001b[0;31m---------------------------------------------------------------------------\u001b[0m",
      "\u001b[0;31mTypeError\u001b[0m                                 Traceback (most recent call last)",
      "\u001b[0;32m<ipython-input-68-03bcd5872737>\u001b[0m in \u001b[0;36m<module>\u001b[0;34m\u001b[0m\n\u001b[0;32m----> 1\u001b[0;31m \u001b[0ms1\u001b[0m\u001b[0;34m[\u001b[0m\u001b[0;36m0\u001b[0m\u001b[0;34m]\u001b[0m   \u001b[0;31m# set은 원소를 하나씩 조회할 수 없다. => solution 반복문 이용\u001b[0m\u001b[0;34m\u001b[0m\u001b[0;34m\u001b[0m\u001b[0m\n\u001b[0m",
      "\u001b[0;31mTypeError\u001b[0m: 'set' object is not subscriptable"
     ]
    }
   ],
   "source": [
    "s1[0]   # set은 원소를 하나씩 조회할 수 없다. => solution 반복문 이용"
   ]
  },
  {
   "cell_type": "markdown",
   "id": "5ba96609",
   "metadata": {},
   "source": [
    "## 연산자"
   ]
  },
  {
   "cell_type": "code",
   "execution_count": 69,
   "id": "20d4153f",
   "metadata": {},
   "outputs": [
    {
     "name": "stdout",
     "output_type": "stream",
     "text": [
      "True\n",
      "False\n"
     ]
    }
   ],
   "source": [
    "print(1 in s1)\n",
    "print(100 in s1)"
   ]
  },
  {
   "cell_type": "code",
   "execution_count": 70,
   "id": "f08df5f3",
   "metadata": {},
   "outputs": [
    {
     "name": "stdout",
     "output_type": "stream",
     "text": [
      "False\n",
      "True\n"
     ]
    }
   ],
   "source": [
    "print(1 not in s1)\n",
    "print(100 not in s1)"
   ]
  },
  {
   "cell_type": "code",
   "execution_count": 74,
   "id": "a5a3bb62",
   "metadata": {},
   "outputs": [
    {
     "name": "stdout",
     "output_type": "stream",
     "text": [
      "{1, 2, 3, 4, 5}\n",
      "{1, 2, 3, 4, 5}\n"
     ]
    }
   ],
   "source": [
    "s1 = {1, 2, 3, 4}\n",
    "s2 = {3, 4, 5}\n",
    "\n",
    "# 합집합\n",
    "s3 = s1 | s2\n",
    "s4 = s1.union(s2)\n",
    "\n",
    "print(s3)\n",
    "print(s4)"
   ]
  },
  {
   "cell_type": "code",
   "execution_count": 75,
   "id": "f84f5760",
   "metadata": {},
   "outputs": [
    {
     "name": "stdout",
     "output_type": "stream",
     "text": [
      "{3, 4} {3, 4}\n"
     ]
    }
   ],
   "source": [
    "# 교집합\n",
    "s5 = s1 & s2\n",
    "s6 = s1.intersection(s2)\n",
    "\n",
    "print(s5, s6)"
   ]
  },
  {
   "cell_type": "code",
   "execution_count": 77,
   "id": "c274bf2b",
   "metadata": {},
   "outputs": [
    {
     "name": "stdout",
     "output_type": "stream",
     "text": [
      "{1, 2} {1, 2}\n"
     ]
    }
   ],
   "source": [
    "# 차집합\n",
    "s7 = s1 - s2\n",
    "s8 = s1.difference(s2)\n",
    "\n",
    "print(s7, s8)"
   ]
  },
  {
   "cell_type": "markdown",
   "id": "0f8b3617",
   "metadata": {},
   "source": [
    "## 메소드"
   ]
  },
  {
   "cell_type": "code",
   "execution_count": 78,
   "id": "1b49272c",
   "metadata": {},
   "outputs": [
    {
     "name": "stdout",
     "output_type": "stream",
     "text": [
      "{1, 2, 3, 4, 5, 10}\n"
     ]
    },
    {
     "data": {
      "text/plain": [
       "{1, 2, 3, 4, 5, 10}"
      ]
     },
     "execution_count": 78,
     "metadata": {},
     "output_type": "execute_result"
    }
   ],
   "source": [
    "# 추가\n",
    "s3.add(10)\n",
    "print(s3)\n",
    "s3.add(10)   # 있는 값을 추가하면 추가가 안 됨(중복 허용 X)\n",
    "s3"
   ]
  },
  {
   "cell_type": "code",
   "execution_count": 80,
   "id": "a26253ec",
   "metadata": {},
   "outputs": [
    {
     "data": {
      "text/plain": [
       "{1, 2, 3, 4, 5, 10, 100, 200, 300, 400}"
      ]
     },
     "execution_count": 80,
     "metadata": {},
     "output_type": "execute_result"
    }
   ],
   "source": [
    "s3.update([1, 2, 3, 100, 200, 300, 400])\n",
    "s3  # 중복값 제거되어 출력됨"
   ]
  },
  {
   "cell_type": "code",
   "execution_count": 82,
   "id": "589aa6e2",
   "metadata": {},
   "outputs": [
    {
     "name": "stdout",
     "output_type": "stream",
     "text": [
      "1\n"
     ]
    },
    {
     "data": {
      "text/plain": [
       "{2, 3, 4, 5, 10, 100, 200, 300, 400}"
      ]
     },
     "execution_count": 82,
     "metadata": {},
     "output_type": "execute_result"
    }
   ],
   "source": [
    "v = s3.pop()\n",
    "print(v)\n",
    "s3"
   ]
  },
  {
   "cell_type": "code",
   "execution_count": 83,
   "id": "b513f5e7",
   "metadata": {},
   "outputs": [
    {
     "data": {
      "text/plain": [
       "{2, 3, 4, 10, 100, 200, 300, 400}"
      ]
     },
     "execution_count": 83,
     "metadata": {},
     "output_type": "execute_result"
    }
   ],
   "source": [
    "s3.remove(5)   # s3의 원소중 5 삭제\n",
    "s3"
   ]
  },
  {
   "cell_type": "code",
   "execution_count": 84,
   "id": "a12b7464",
   "metadata": {},
   "outputs": [
    {
     "ename": "KeyError",
     "evalue": "'가'",
     "output_type": "error",
     "traceback": [
      "\u001b[0;31m---------------------------------------------------------------------------\u001b[0m",
      "\u001b[0;31mKeyError\u001b[0m                                  Traceback (most recent call last)",
      "\u001b[0;32m<ipython-input-84-a0e5ec22cdc7>\u001b[0m in \u001b[0;36m<module>\u001b[0;34m\u001b[0m\n\u001b[0;32m----> 1\u001b[0;31m \u001b[0ms3\u001b[0m\u001b[0;34m.\u001b[0m\u001b[0mremove\u001b[0m\u001b[0;34m(\u001b[0m\u001b[0;34m'가'\u001b[0m\u001b[0;34m)\u001b[0m   \u001b[0;31m# 없는 값 삭제시 KeyError 발생\u001b[0m\u001b[0;34m\u001b[0m\u001b[0;34m\u001b[0m\u001b[0m\n\u001b[0m",
      "\u001b[0;31mKeyError\u001b[0m: '가'"
     ]
    }
   ],
   "source": [
    "s3.remove('가')   # 없는 값 삭제시 KeyError 발생"
   ]
  },
  {
   "cell_type": "code",
   "execution_count": 89,
   "id": "74c8d5c7",
   "metadata": {},
   "outputs": [
    {
     "name": "stdout",
     "output_type": "stream",
     "text": [
      "[]\n"
     ]
    },
    {
     "data": {
      "text/plain": [
       "dict"
      ]
     },
     "execution_count": 89,
     "metadata": {},
     "output_type": "execute_result"
    }
   ],
   "source": [
    "var1 = []   # 빈 리스트 생성\n",
    "print(var1)\n",
    "\n",
    "var2 = {}  # 빈 딕셔너리\n",
    "type(var2)"
   ]
  },
  {
   "cell_type": "code",
   "execution_count": 92,
   "id": "7dec96d8",
   "metadata": {},
   "outputs": [
    {
     "data": {
      "text/plain": [
       "{'a': 100}"
      ]
     },
     "execution_count": 92,
     "metadata": {},
     "output_type": "execute_result"
    }
   ],
   "source": [
    "# 값 추가\n",
    "\n",
    "var2['a'] = 100\n",
    "var2"
   ]
  },
  {
   "cell_type": "markdown",
   "id": "9e73a690",
   "metadata": {},
   "source": [
    "## 자료구조 변환 함수\n",
    "- list(자료구조) : 자료구조를 List로 변환\n",
    "- tuple(자료구조) : 자료구조를 Tuple로 변환\n",
    "- set(자료구조) : 자료구조를 Set으로 변환\n",
    "- Dictionary로 변환하는 함수는 없다.\n",
    "    - 변경해야하는 자료구조가 Dict일 경우엔 key값들만 모아서 변환"
   ]
  },
  {
   "cell_type": "code",
   "execution_count": 93,
   "id": "204c9349",
   "metadata": {},
   "outputs": [
    {
     "data": {
      "text/plain": [
       "([1, 2, 10, 5, 10, 2], list)"
      ]
     },
     "execution_count": 93,
     "metadata": {},
     "output_type": "execute_result"
    }
   ],
   "source": [
    "t = 1, 2, 10, 5, 10, 2\n",
    "l = list(t)\n",
    "l, type(l)"
   ]
  },
  {
   "cell_type": "code",
   "execution_count": 94,
   "id": "5063bb56",
   "metadata": {},
   "outputs": [
    {
     "data": {
      "text/plain": [
       "({1, 2, 5, 10}, set)"
      ]
     },
     "execution_count": 94,
     "metadata": {},
     "output_type": "execute_result"
    }
   ],
   "source": [
    "s = set(t)\n",
    "s, type(s)"
   ]
  },
  {
   "cell_type": "code",
   "execution_count": 96,
   "id": "859e890c",
   "metadata": {},
   "outputs": [
    {
     "data": {
      "text/plain": [
       "(1, 3, 10, 20, 11)"
      ]
     },
     "execution_count": 96,
     "metadata": {},
     "output_type": "execute_result"
    }
   ],
   "source": [
    "# list -> tuple\n",
    "\n",
    "t1 = tuple([1, 3, 10, 20, 11])\n",
    "t1"
   ]
  },
  {
   "cell_type": "code",
   "execution_count": 97,
   "id": "0a9b38ad",
   "metadata": {},
   "outputs": [
    {
     "data": {
      "text/plain": [
       "{'a': 10, 'b': 20, 'c': 30}"
      ]
     },
     "execution_count": 97,
     "metadata": {},
     "output_type": "execute_result"
    }
   ],
   "source": [
    "d = {'a':10, 'b':20, 'c':30}\n",
    "d"
   ]
  },
  {
   "cell_type": "code",
   "execution_count": 98,
   "id": "2ad08ee0",
   "metadata": {},
   "outputs": [
    {
     "data": {
      "text/plain": [
       "{'a', 'b', 'c'}"
      ]
     },
     "execution_count": 98,
     "metadata": {},
     "output_type": "execute_result"
    }
   ],
   "source": [
    "# dict -> set\n",
    "\n",
    "set(d)"
   ]
  },
  {
   "cell_type": "code",
   "execution_count": 99,
   "id": "0b777d44",
   "metadata": {},
   "outputs": [
    {
     "data": {
      "text/plain": [
       "['a', 'b', 'c']"
      ]
     },
     "execution_count": 99,
     "metadata": {},
     "output_type": "execute_result"
    }
   ],
   "source": [
    "list(d)"
   ]
  },
  {
   "cell_type": "code",
   "execution_count": 100,
   "id": "2e43080d",
   "metadata": {},
   "outputs": [
    {
     "data": {
      "text/plain": [
       "('a', 'b', 'c')"
      ]
     },
     "execution_count": 100,
     "metadata": {},
     "output_type": "execute_result"
    }
   ],
   "source": [
    "tuple(d)"
   ]
  },
  {
   "cell_type": "code",
   "execution_count": 101,
   "id": "734201c8",
   "metadata": {},
   "outputs": [
    {
     "data": {
      "text/plain": [
       "{'name': '최윤지', 'age': 20, 'address': '부산'}"
      ]
     },
     "execution_count": 101,
     "metadata": {},
     "output_type": "execute_result"
    }
   ],
   "source": [
    "d1 = dict(name='최윤지', age=20, address='부산')\n",
    "d1"
   ]
  },
  {
   "cell_type": "markdown",
   "id": "886050ba",
   "metadata": {},
   "source": [
    "## Question"
   ]
  },
  {
   "cell_type": "code",
   "execution_count": 122,
   "id": "0f795a3a",
   "metadata": {},
   "outputs": [
    {
     "name": "stdout",
     "output_type": "stream",
     "text": [
      "(1)80\n",
      "(2)[100, 90, 100, 80, 70]\n",
      "(3)[80, 70, 100, 80]\n",
      "(4)[90, 80, 100, 90, 85]\n",
      "(5)[100, 100, 70, 80, 95]\n",
      "(6)[100, 90, 100, 80, 70, 100, 80, 90, 20, 85]\n",
      "(7){100, 70, 80, 20, 85, 90}\n"
     ]
    }
   ],
   "source": [
    "jumsu = [100, 90, 100, 80, 70, 100, 80, 90, 95, 85]   # Q.1~7에 사용되는 변수\n",
    "\n",
    "# 위는 학생번호 1번 ~ 10번까지 10명의 시험 점수이다.\n",
    "#(1)  7번의 점수를 출력하세요\n",
    "result = str(jumsu[6])\n",
    "print(\"(1)\"+result)\n",
    "\n",
    "#(2)  1번부터 5번까지의 점수를 출력하세요.\n",
    "result = str(jumsu[:5])\n",
    "print(\"(2)\"+result)\n",
    "\n",
    "#(3)  4, 5, 6, 7번의 점수를 출력하세요.\n",
    "result = str(jumsu[3:7])\n",
    "print(\"(3)\"+result)\n",
    "\n",
    "#(4) 짝수번째 점수를 출력하세요.\n",
    "result = str(jumsu[1::2])\n",
    "print(\"(4)\"+result)\n",
    "\n",
    "#(5) 홀수번째 점수를 출력하세요.\n",
    "result = str(jumsu[::2])\n",
    "print(\"(5)\"+result)\n",
    "\n",
    "#(6) 9번의 점수를 20으로 변경하고 전체 출력하세요.\n",
    "jumsu[8] = 20\n",
    "result = str(jumsu)\n",
    "print(\"(6)\"+result)\n",
    "\n",
    "#(7) 중복된 점수는 제거하고 하나씩만 나오도록 출력하세요.\n",
    "result = str(set(jumsu))\n",
    "print(\"(7)\"+result)"
   ]
  },
  {
   "cell_type": "code",
   "execution_count": 132,
   "id": "9757a96a",
   "metadata": {},
   "outputs": [
    {
     "name": "stdout",
     "output_type": "stream",
     "text": [
      "(8)['복숭아', '수박', '딸기', '사과', '귤']\n",
      "(9)['수박', '딸기', '사과', '귤']\n"
     ]
    }
   ],
   "source": [
    "# 문제 8 ~ 9\n",
    "fruits = [\"복숭아\", \"수박\", \"딸기\"]\n",
    "\n",
    "#(8) fruits 리스트에 마지막 원소로 \"사과\", \"귤\"을 추가하세요.\n",
    "fruits.append(\"사과\")\n",
    "fruits.append(\"귤\")\n",
    "result = str(fruits)\n",
    "\n",
    "# 한번에 여러개 넣으려면\n",
    "# fruits.extend(['사과', '귤'])\n",
    "print(\"(8)\"+result)\n",
    "\n",
    "#(9) fruits 리스트에서 \"복숭아\"를 제거하세요.\n",
    "fruits.remove(\"복숭아\")\n",
    "result = str(fruits)\n",
    "print(\"(9)\"+result)"
   ]
  },
  {
   "cell_type": "code",
   "execution_count": 154,
   "id": "fe71d2fe",
   "metadata": {},
   "outputs": [
    {
     "name": "stdout",
     "output_type": "stream",
     "text": [
      "(10){'이름': '최윤지', '나이': 25, 'email': 'qwerty@gmail.com', '취미': ['영화', '음악'], '결혼유무': 'X'}\n",
      "(11)최윤지qwerty@gmail.com\n",
      "(12)음악\n",
      "(13){'이름': '최윤지', '나이': 25, 'email': 'qwerty@gmail.com', '취미': ['영화', '음악'], '결혼유무': 'X', '몸무게': 50, '키': 160}\n",
      "(14){'이름': '최윤지', 'email': 'qwerty@gmail.com', '취미': ['영화', '음악'], '결혼유무': 'X', '몸무게': 50, '키': 160}\n",
      "(15){'이름': '최윤지', 'email': 'abcd@gmail.com', '취미': ['영화', '음악'], '결혼유무': 'X', '몸무게': 50, '키': 160}\n"
     ]
    }
   ],
   "source": [
    "#문제 10 ~ 15\n",
    "#(10)본인의 이름, 나이, email주소, 취미, 결혼유무를 사전(딕셔너리)으로 생성. \n",
    "# 취미는 2개 이상의 값을 넣는다..\n",
    "d1 = dict(이름=\"최윤지\", 나이=25, email=\"qwerty@gmail.com\", 취미=[\"영화\", \"음악\"], 결혼유무=\"X\")\n",
    "result = str(d1)\n",
    "print(\"(10)\"+result)\n",
    "\n",
    "#(11) 위 딕셔너리에서 이름과 email주소를 조회해서 출력하세요.\n",
    "result = str(d1.get('이름'))\n",
    "result = result + str(d1.get('email'))\n",
    "print(\"(11)\"+result)\n",
    "\n",
    "#(12) 위 딕셔너리에서 취미중 두번째 취미를 조회해서 출력하세요.\n",
    "hobby = d1.get('취미')\n",
    "result = hobby[1]\n",
    "print(\"(12)\"+result)\n",
    "\n",
    "#(13) 위 딕셔너리에 몸무게와 키 항목을 추가하세요.\n",
    "d1['몸무게'] = 50\n",
    "d1['키'] = 160\n",
    "result = str(d1)\n",
    "print(\"(13)\"+result)\n",
    "\n",
    "#(14) 위 딕셔너리에서 나이를 제거하세요.\n",
    "del d1['나이']\n",
    "result = str(d1)\n",
    "print(\"(14)\"+result)\n",
    "\n",
    "#(15) 위 딕셔너리에서 email 주소를 다른 값으로 변경하세요.\n",
    "d1['email'] = \"abcd@gmail.com\"\n",
    "result = str(d1)\n",
    "print(\"(15)\"+result)"
   ]
  },
  {
   "cell_type": "code",
   "execution_count": null,
   "id": "1a89b88e",
   "metadata": {},
   "outputs": [],
   "source": []
  }
 ],
 "metadata": {
  "kernelspec": {
   "display_name": "Python 3",
   "language": "python",
   "name": "python3"
  },
  "language_info": {
   "codemirror_mode": {
    "name": "ipython",
    "version": 3
   },
   "file_extension": ".py",
   "mimetype": "text/x-python",
   "name": "python",
   "nbconvert_exporter": "python",
   "pygments_lexer": "ipython3",
   "version": "3.8.8"
  }
 },
 "nbformat": 4,
 "nbformat_minor": 5
}
