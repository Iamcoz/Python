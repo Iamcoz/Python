{
 "cells": [
  {
   "cell_type": "markdown",
   "id": "27376dcc",
   "metadata": {},
   "source": [
    "# 제어문\n",
    "* code의 흐름을 제어하는 구문"
   ]
  },
  {
   "cell_type": "markdown",
   "id": "54bd704a",
   "metadata": {},
   "source": [
    "## 조건문 (분기문)"
   ]
  },
  {
   "cell_type": "code",
   "execution_count": 1,
   "id": "35c0111e",
   "metadata": {},
   "outputs": [
    {
     "name": "stdout",
     "output_type": "stream",
     "text": [
      "정수: 0\n",
      "0 입니다.\n",
      "zero\n",
      "종료\n"
     ]
    }
   ],
   "source": [
    "# if문 : 특정 구문들을 실행 할지 말지\n",
    "\n",
    "# 입력값이 0이면 \"0 입니다.\"라고 출력\n",
    "num = int(input(\"정수: \"))\n",
    "\n",
    "if num == 0 :\n",
    "    print(\"0 입니다.\")\n",
    "    print('zero')\n",
    "print('종료')"
   ]
  },
  {
   "cell_type": "code",
   "execution_count": 2,
   "id": "f9e25de4",
   "metadata": {},
   "outputs": [
    {
     "name": "stdout",
     "output_type": "stream",
     "text": [
      "숫자를 입력하세요: 0\n",
      "0 입니다.\n",
      "종료\n"
     ]
    }
   ],
   "source": [
    "# if else문 : 조건이 True일 때 할 일과 False일 때 할 일 두가지로 분기\n",
    "\n",
    "# 입력 받은 값이 0이면 \"0입니다.\", 0이 아니면 '0이 아닙니다.' 출력\n",
    "num = int(input(\"숫자를 입력하세요: \"))\n",
    "\n",
    "if num == 0:\n",
    "    print(\"0 입니다.\")\n",
    "else:\n",
    "    print(\"0이 아닙니다.\")\n",
    "    print(f\"입력한 숫자는 {num}입니다.\")\n",
    "\n",
    "print(\"종료\")"
   ]
  },
  {
   "cell_type": "code",
   "execution_count": 3,
   "id": "ebc5db86",
   "metadata": {},
   "outputs": [
    {
     "name": "stdout",
     "output_type": "stream",
     "text": [
      "정수를 입력하세요: 7\n",
      "양수입니다.\n",
      "입력한 숫자는 7입니다.\n",
      "종료\n"
     ]
    }
   ],
   "source": [
    "# if elif문 : 조건이 여러개일 경우 사용\n",
    "\n",
    "# input이 0 이면 '0입니다.', 양수이면 '양수', 음수이면 '음수' 출력\n",
    "num = int(input(\"정수를 입력하세요: \"))\n",
    "\n",
    "if num == 0 :\n",
    "    print(\"0 입니다.\")\n",
    "elif num > 0 :\n",
    "    print('양수입니다.')\n",
    "    print(f\"입력한 숫자는 {num}입니다.\")\n",
    "elif num < 0 :\n",
    "    print(\"음수입니다.\")\n",
    "    print(f\"입력한 숫자는 {num}입니다.\")\n",
    "else : \n",
    "    print('정수가 아닙니다.')\n",
    "          \n",
    "print(\"종료\")"
   ]
  },
  {
   "cell_type": "code",
   "execution_count": 4,
   "id": "9838cf81",
   "metadata": {},
   "outputs": [
    {
     "name": "stdout",
     "output_type": "stream",
     "text": [
      "양수입니다.\n",
      "100이상입니다.\n"
     ]
    }
   ],
   "source": [
    "# num이 0 이상이면 \"양수입니다.\" 100 초과이면 \"100이상입니다.\" 출력\n",
    "num = 1000\n",
    "\n",
    "if num >= 0 :\n",
    "    print('양수입니다.')\n",
    "    if num >= 100 :\n",
    "        print('100이상입니다.')"
   ]
  },
  {
   "cell_type": "markdown",
   "id": "195de05f",
   "metadata": {},
   "source": [
    "# 반복문"
   ]
  },
  {
   "cell_type": "markdown",
   "id": "09c8a4ee",
   "metadata": {},
   "source": [
    "## while문\n",
    "* 조건이 True인 동안 구문을 반복"
   ]
  },
  {
   "cell_type": "code",
   "execution_count": 5,
   "id": "a5b6aec1",
   "metadata": {},
   "outputs": [
    {
     "name": "stdout",
     "output_type": "stream",
     "text": [
      "반복 횟수: 3\n",
      "1. 안녕하세요\n",
      "2. 안녕하세요\n",
      "3. 안녕하세요\n"
     ]
    }
   ],
   "source": [
    "limit = int(input(\"반복 횟수: \"))   # 반복할 횟수\n",
    "cnt = 0   # 현재 몇번째 반복인지를 저장할 변수\n",
    "\n",
    "while cnt < limit :   # 현재 반복횟수가 limit보다 적을때 까지 반복\n",
    "    cnt += 1\n",
    "    print(f\"{cnt}. 안녕하세요\")"
   ]
  },
  {
   "cell_type": "markdown",
   "id": "f9417ea5",
   "metadata": {},
   "source": [
    "## for in문\n",
    "* iterable(자료구조들, 문자열 등)이 갖고있는 값들을 순환 조회 할 때 사용"
   ]
  },
  {
   "cell_type": "code",
   "execution_count": 6,
   "id": "fefe6922",
   "metadata": {},
   "outputs": [
    {
     "name": "stdout",
     "output_type": "stream",
     "text": [
      "1\n",
      "--\n",
      "2\n",
      "--\n",
      "3\n",
      "--\n",
      "4\n",
      "--\n",
      "5\n",
      "--\n"
     ]
    }
   ],
   "source": [
    "# for 변수 in Iterable :\n",
    "#    반복문1\n",
    "\n",
    "\n",
    "# List\n",
    "\n",
    "l1 = [1, 2, 3, 4, 5]\n",
    "\n",
    "for num in l1 :\n",
    "    print(num)    # iterable의 원소를 하나씩 처리\n",
    "    print(\"--\")    \n",
    "    "
   ]
  },
  {
   "cell_type": "code",
   "execution_count": 7,
   "id": "19a7b93d",
   "metadata": {},
   "outputs": [
    {
     "name": "stdout",
     "output_type": "stream",
     "text": [
      "10, 20, 30, 40, 종료\n"
     ]
    }
   ],
   "source": [
    "# Tuple\n",
    "\n",
    "for v in (10, 20, 30, 40) :\n",
    "    print(v, end=\", \")\n",
    "print(\"종료\")"
   ]
  },
  {
   "cell_type": "code",
   "execution_count": 8,
   "id": "b680e1fb",
   "metadata": {},
   "outputs": [
    {
     "name": "stdout",
     "output_type": "stream",
     "text": [
      "1\t2\t3\t4\t"
     ]
    }
   ],
   "source": [
    "# Set\n",
    "\n",
    "for v in {1, 2, 2, 2, 3, 4, 1, 2, 3, 4} :    # -> { 1, 2, 3, 4}\n",
    "    print(v, end=\"\\t\")"
   ]
  },
  {
   "cell_type": "code",
   "execution_count": 9,
   "id": "4a9e9db5",
   "metadata": {},
   "outputs": [
    {
     "name": "stdout",
     "output_type": "stream",
     "text": [
      "name\n",
      "age\n",
      "address\n"
     ]
    }
   ],
   "source": [
    "# Dict\n",
    "\n",
    "for v in dict(name='coz', age=20, address='Seoul') :\n",
    "    print(v)"
   ]
  },
  {
   "cell_type": "code",
   "execution_count": 68,
   "id": "ed122e2d",
   "metadata": {},
   "outputs": [
    {
     "name": "stdout",
     "output_type": "stream",
     "text": [
      "coz\n",
      "20\n",
      "Seoul\n"
     ]
    }
   ],
   "source": [
    "# Dict - value\n",
    "\n",
    "d = dict(name='coz', age=20, address='Seoul')\n",
    "for v in d.values() :\n",
    "    print(v)"
   ]
  },
  {
   "cell_type": "code",
   "execution_count": 10,
   "id": "72deb8a7",
   "metadata": {},
   "outputs": [
    {
     "name": "stdout",
     "output_type": "stream",
     "text": [
      "안\n",
      "녕\n",
      "하\n",
      "세\n",
      "요\n",
      ".\n",
      " \n",
      "a\n",
      "b\n",
      "c\n",
      "d\n",
      "e\n",
      "~\n"
     ]
    }
   ],
   "source": [
    "# 문자열\n",
    "\n",
    "for v in (\"안녕하세요. abcde~\") :\n",
    "    print(v)"
   ]
  },
  {
   "cell_type": "code",
   "execution_count": 11,
   "id": "d787f640",
   "metadata": {},
   "outputs": [
    {
     "data": {
      "text/plain": [
       "['a', 'b', 'c', 'd', 'e', 'f', 'g']"
      ]
     },
     "execution_count": 11,
     "metadata": {},
     "output_type": "execute_result"
    }
   ],
   "source": [
    "list(\"abcdefg\")"
   ]
  },
  {
   "cell_type": "code",
   "execution_count": 12,
   "id": "48ada6c2",
   "metadata": {},
   "outputs": [
    {
     "data": {
      "text/plain": [
       "('a', 'b', 'c', 'd', 'e', 'f', 'g')"
      ]
     },
     "execution_count": 12,
     "metadata": {},
     "output_type": "execute_result"
    }
   ],
   "source": [
    "tuple(\"abcdefg\")"
   ]
  },
  {
   "cell_type": "code",
   "execution_count": 13,
   "id": "c586df25",
   "metadata": {},
   "outputs": [
    {
     "data": {
      "text/plain": [
       "{'a', 'b', 'c', 'd', 'e', 'f', 'g'}"
      ]
     },
     "execution_count": 13,
     "metadata": {},
     "output_type": "execute_result"
    }
   ],
   "source": [
    "set(\"abcdefg\")"
   ]
  },
  {
   "cell_type": "code",
   "execution_count": 14,
   "id": "8c751d9a",
   "metadata": {},
   "outputs": [
    {
     "name": "stdout",
     "output_type": "stream",
     "text": [
      "2\n",
      "4\n"
     ]
    }
   ],
   "source": [
    "# l1 = [1, 2, 3, 4, 5]\n",
    "\n",
    "for v in l1 :\n",
    "    if v%2 != 0:    # 2의 배수가 아니면\n",
    "        continue    # 나머지 반복구문 실행하지 않고 다음 반복 실행\n",
    "    print(v)"
   ]
  },
  {
   "cell_type": "code",
   "execution_count": 15,
   "id": "e2b45ffa",
   "metadata": {},
   "outputs": [
    {
     "name": "stdout",
     "output_type": "stream",
     "text": [
      "1\n",
      "2\n",
      "3\n",
      "end\n"
     ]
    }
   ],
   "source": [
    "for v in l1:\n",
    "    print(v)\n",
    "    if v >= 3 :    # break할 조건\n",
    "        break    # 더이상 반복하지 않고 반복문을 빠져나옴\n",
    "print('end')"
   ]
  },
  {
   "cell_type": "code",
   "execution_count": 16,
   "id": "666bde6c",
   "metadata": {},
   "outputs": [
    {
     "name": "stdout",
     "output_type": "stream",
     "text": [
      "글자를 입력하세요: s\n",
      "입력한 문자열:  s\n",
      "글자를 입력하세요: a\n",
      "입력한 문자열:  a\n",
      "글자를 입력하세요: q!\n",
      "입력한 문자열:  q!\n"
     ]
    }
   ],
   "source": [
    "# 사용자로부터 input값을 받아서 출력. 'q!'를 입력받으면 종료.\n",
    "\n",
    "while True :     # 무한 반복\n",
    "    s = input(\"글자를 입력하세요: \")\n",
    "    print('입력한 문자열: ', s)\n",
    "    \n",
    "    if s == 'q!' :\n",
    "        break    # 종료"
   ]
  },
  {
   "cell_type": "markdown",
   "id": "94287950",
   "metadata": {},
   "source": [
    "## for in문 관련 함수\n",
    "- range()\n",
    "    - 특정 값만큼 증감하는 연속된 숫자를 제공하는 iterable을 생성"
   ]
  },
  {
   "cell_type": "code",
   "execution_count": 17,
   "id": "8eb1d13a",
   "metadata": {},
   "outputs": [
    {
     "data": {
      "text/plain": [
       "range(10, 100, 10)"
      ]
     },
     "execution_count": 17,
     "metadata": {},
     "output_type": "execute_result"
    }
   ],
   "source": [
    "# nums = [1, 2, 3, 4, 5, 6, . . ., 100]\n",
    "# range(시작숫자, 끝숫자, 증감치)\n",
    "\n",
    "range(10, 100, 10)    # 10 ~ 100-1 까지 10씩 증가하는 연속된 값을 제공"
   ]
  },
  {
   "cell_type": "code",
   "execution_count": 18,
   "id": "be18c49c",
   "metadata": {},
   "outputs": [
    {
     "name": "stdout",
     "output_type": "stream",
     "text": [
      "10\n",
      "20\n",
      "30\n",
      "40\n"
     ]
    }
   ],
   "source": [
    "for i in range(10, 50, 10) :\n",
    "    print(i)    # 생성된 값이 필요할 때만 그때 그때 프린트한다. 자동 출력 x"
   ]
  },
  {
   "cell_type": "code",
   "execution_count": 19,
   "id": "cdcefd76",
   "metadata": {},
   "outputs": [
    {
     "data": {
      "text/plain": [
       "[10, 20, 30, 40, 50, 60, 70, 80, 90]"
      ]
     },
     "execution_count": 19,
     "metadata": {},
     "output_type": "execute_result"
    }
   ],
   "source": [
    "l3 = list(range(10, 100, 10))\n",
    "l3"
   ]
  },
  {
   "cell_type": "code",
   "execution_count": 28,
   "id": "b7d4b280",
   "metadata": {},
   "outputs": [
    {
     "data": {
      "text/plain": [
       "((10, 20, 30, 40, 50, 60, 70, 80, 90), {10, 20, 30, 40, 50, 60, 70, 80, 90})"
      ]
     },
     "execution_count": 28,
     "metadata": {},
     "output_type": "execute_result"
    }
   ],
   "source": [
    "tuple(range(10, 100, 10)), set(range(10, 100, 10))"
   ]
  },
  {
   "cell_type": "code",
   "execution_count": 30,
   "id": "fac2ad91",
   "metadata": {},
   "outputs": [
    {
     "data": {
      "text/plain": [
       "[100, 95, 90, 85, 80, 75, 70, 65, 60, 55, 50, 45, 40, 35, 30, 25, 20, 15]"
      ]
     },
     "execution_count": 30,
     "metadata": {},
     "output_type": "execute_result"
    }
   ],
   "source": [
    "# 시작값이 종료보다 크고 증감치가 음수이면 내림차순으로 제공\n",
    "list(range(100, 10, -5))"
   ]
  },
  {
   "cell_type": "code",
   "execution_count": 22,
   "id": "f9e01d1b",
   "metadata": {},
   "outputs": [
    {
     "data": {
      "text/plain": [
       "[0, 1, 2, 3, 4, 5, 6, 7, 8, 9, 10, 11, 12, 13, 14, 15, 16, 17, 18, 19]"
      ]
     },
     "execution_count": 22,
     "metadata": {},
     "output_type": "execute_result"
    }
   ],
   "source": [
    "# 종료값은 생략 불가능\n",
    "\n",
    "list(range(20))"
   ]
  },
  {
   "cell_type": "code",
   "execution_count": 20,
   "id": "be4d806b",
   "metadata": {},
   "outputs": [
    {
     "data": {
      "text/plain": [
       "[1, 2, 3, 4, 5, 6, 7, 8, 9]"
      ]
     },
     "execution_count": 20,
     "metadata": {},
     "output_type": "execute_result"
    }
   ],
   "source": [
    "# 증감치를 생략\n",
    "\n",
    "list(range(1, 10))    # 1~9 1씩 증가"
   ]
  },
  {
   "cell_type": "code",
   "execution_count": 21,
   "id": "ffa8667c",
   "metadata": {},
   "outputs": [
    {
     "data": {
      "text/plain": [
       "[0, 1, 2, 3, 4, 5, 6, 7, 8, 9]"
      ]
     },
     "execution_count": 21,
     "metadata": {},
     "output_type": "execute_result"
    }
   ],
   "source": [
    "# 시작값 생략 (증감치도 같이 생략해야함) - 0부터 시작\n",
    "\n",
    "list(range(10))    # 0~9"
   ]
  },
  {
   "cell_type": "markdown",
   "id": "7aae7d9c",
   "metadata": {},
   "source": [
    "## range()는 전닯값에 따라\n",
    "* 1개 : 종료값\n",
    "* 2개 : 시작값, 종료값\n",
    "* 3개 : 시작값, 종료값, 증감치"
   ]
  },
  {
   "cell_type": "code",
   "execution_count": 29,
   "id": "f5b678a6",
   "metadata": {},
   "outputs": [
    {
     "name": "stdout",
     "output_type": "stream",
     "text": [
      "ABC\n",
      "ABC\n",
      "ABC\n",
      "ABC\n",
      "ABC\n"
     ]
    }
   ],
   "source": [
    "#range() : 특정 구문을 n번 반복하려고 할 때 for in문과 함께 사용 가능\n",
    "\n",
    "for _ in range(5) :    #변수명을 '-'로 선언하면 이 변수는 사용하진 않을거지만 자리만 채운다는 의미로 사용한다.\n",
    "    print(\"ABC\")"
   ]
  },
  {
   "cell_type": "markdown",
   "id": "35e186af",
   "metadata": {},
   "source": [
    "* enumerate(자료구조)\n",
    "    - 튜플로 (몇번째 반복인지, 값) 묶어서 반환"
   ]
  },
  {
   "cell_type": "code",
   "execution_count": 32,
   "id": "7684aa0e",
   "metadata": {},
   "outputs": [
    {
     "name": "stdout",
     "output_type": "stream",
     "text": [
      "(0, 10)\n",
      "(1, 5)\n",
      "(2, 7)\n",
      "(3, 8)\n",
      "(4, 10)\n",
      "(5, 2)\n"
     ]
    }
   ],
   "source": [
    "lst = [10, 5, 7, 8, 10, 2]\n",
    "\n",
    "for i in enumerate(lst):\n",
    "    print(i)"
   ]
  },
  {
   "cell_type": "code",
   "execution_count": 33,
   "id": "46f1ce7e",
   "metadata": {},
   "outputs": [
    {
     "name": "stdout",
     "output_type": "stream",
     "text": [
      "(1, 10)\n",
      "(2, 5)\n",
      "(3, 7)\n",
      "(4, 8)\n",
      "(5, 10)\n",
      "(6, 2)\n"
     ]
    }
   ],
   "source": [
    "for i in enumerate(lst, start=1):\n",
    "    print(i)"
   ]
  },
  {
   "cell_type": "code",
   "execution_count": 34,
   "id": "404c3785",
   "metadata": {},
   "outputs": [
    {
     "name": "stdout",
     "output_type": "stream",
     "text": [
      "1. 10\n",
      "2. 5\n",
      "3. 7\n",
      "4. 8\n",
      "5. 10\n",
      "6. 2\n"
     ]
    }
   ],
   "source": [
    "#enumerate() 반환값을 tuple 대입을 이용해 받는다.\n",
    "\n",
    "for idx, value in enumerate(lst, start=1):\n",
    "    print(f\"{idx}. {value}\")"
   ]
  },
  {
   "cell_type": "markdown",
   "id": "679e9342",
   "metadata": {},
   "source": [
    "* zip(자료구조1, 자료구조2, ...)"
   ]
  },
  {
   "cell_type": "code",
   "execution_count": 39,
   "id": "e7d8b0a2",
   "metadata": {},
   "outputs": [],
   "source": [
    "# 각 변수마다 같은 idx의 값들이 한 사람의 정보. idx[1]인 애들끼리 병렬로 모여서 한 사람\n",
    "names = ['홍길동', '최윤지', '이순신']\n",
    "ages = [30, 40, 50]\n",
    "address = ['서울', '인천', '수원']"
   ]
  },
  {
   "cell_type": "code",
   "execution_count": 40,
   "id": "2bf606d0",
   "metadata": {},
   "outputs": [
    {
     "name": "stdout",
     "output_type": "stream",
     "text": [
      "('홍길동', 30, '서울')\n",
      "('최윤지', 40, '인천')\n",
      "('이순신', 50, '수원')\n"
     ]
    }
   ],
   "source": [
    "for v in zip(names, ages, address):\n",
    "    print(v)"
   ]
  },
  {
   "cell_type": "code",
   "execution_count": 42,
   "id": "9be0304d",
   "metadata": {},
   "outputs": [
    {
     "name": "stdout",
     "output_type": "stream",
     "text": [
      "홍길동 30 서울\n",
      "최윤지 40 인천\n",
      "이순신 50 수원\n"
     ]
    }
   ],
   "source": [
    "# 튜플 대입 처리\n",
    "\n",
    "for name, age, addr in zip(names, ages, address):\n",
    "    print(name, age, addr)"
   ]
  },
  {
   "cell_type": "code",
   "execution_count": 43,
   "id": "a79fd1bf",
   "metadata": {},
   "outputs": [
    {
     "name": "stdout",
     "output_type": "stream",
     "text": [
      "홍길동 30 서울 h@a.com\n",
      "최윤지 40 인천 i@a.com\n",
      "이순신 50 수원 j@a.com\n"
     ]
    }
   ],
   "source": [
    "emails = ['h@a.com', 'i@a.com', 'j@a.com', 'k@a.com']\n",
    "\n",
    "# 자료구조들의 원소 개수가 다를 경우에는 적은 것에 맞춘다.\n",
    "for name, age, addr, email in zip(names, ages, address, emails):\n",
    "    print(name, age, addr, email)"
   ]
  },
  {
   "cell_type": "markdown",
   "id": "6e2016c9",
   "metadata": {},
   "source": [
    "# 컴프리헨션"
   ]
  },
  {
   "cell_type": "code",
   "execution_count": 46,
   "id": "1c7d8ade",
   "metadata": {},
   "outputs": [
    {
     "name": "stdout",
     "output_type": "stream",
     "text": [
      "[5, 10, 15, 20, 25]\n"
     ]
    }
   ],
   "source": [
    "l1 = [1, 2, 3, 4, 5]\n",
    "\n",
    "# l1의 원소들을 5배한 값들로 구성된 리스트를 생성\n",
    "\n",
    "# 기존 방법\n",
    "new_l1 = []    # 빈 리스트 생성\n",
    "for i in l1:\n",
    "    new_l1.append(i*5)\n",
    "print(new_l1)"
   ]
  },
  {
   "cell_type": "code",
   "execution_count": 55,
   "id": "749b1e0e",
   "metadata": {},
   "outputs": [
    {
     "data": {
      "text/plain": [
       "[5, 10, 15, 20, 25]"
      ]
     },
     "execution_count": 55,
     "metadata": {},
     "output_type": "execute_result"
    }
   ],
   "source": [
    "new_list2 = [i*5 for i in l1]    # list 컴프리헨션\n",
    "new_list2"
   ]
  },
  {
   "cell_type": "code",
   "execution_count": 56,
   "id": "a934f5c2",
   "metadata": {},
   "outputs": [
    {
     "data": {
      "text/plain": [
       "{5, 10, 15, 20, 25}"
      ]
     },
     "execution_count": 56,
     "metadata": {},
     "output_type": "execute_result"
    }
   ],
   "source": [
    "new_set = {i*5 for i in l1}    # set 컴프리헨션. set의 중복 제거 특성도 갖고있다.\n",
    "new_set"
   ]
  },
  {
   "cell_type": "code",
   "execution_count": 59,
   "id": "27d5f214",
   "metadata": {},
   "outputs": [
    {
     "data": {
      "text/plain": [
       "{100: 5, 101: 10, 102: 15, 103: 20, 104: 25}"
      ]
     },
     "execution_count": 59,
     "metadata": {},
     "output_type": "execute_result"
    }
   ],
   "source": [
    "# 맨 앞에 key:value 형태를 지정해줌으로써 dict 컴프리헨션이 됨.\n",
    "\n",
    "new_dict = {key:value*5 for key, value in enumerate(l1, start=100)}\n",
    "new_dict"
   ]
  },
  {
   "cell_type": "code",
   "execution_count": 60,
   "id": "79943c5c",
   "metadata": {},
   "outputs": [
    {
     "data": {
      "text/plain": [
       "{'key1': 1, 'key2': 2, 'key3': 3, 'key4': 4, 'key5': 5}"
      ]
     },
     "execution_count": 60,
     "metadata": {},
     "output_type": "execute_result"
    }
   ],
   "source": [
    "new_dict = {'key'+str(value):value for value in l1}\n",
    "new_dict"
   ]
  },
  {
   "cell_type": "code",
   "execution_count": 63,
   "id": "ab1aecee",
   "metadata": {},
   "outputs": [
    {
     "data": {
      "text/plain": [
       "(['A', 'B', 'C', 'ABC'], ['a', 'b', 'c', 'abc'])"
      ]
     },
     "execution_count": 63,
     "metadata": {},
     "output_type": "execute_result"
    }
   ],
   "source": [
    "# s의 값을 대문자로 변환한 값들을 원소로 갖는 자료구조\n",
    "\n",
    "s = ['a', 'b', 'c', 'abc']\n",
    "\n",
    "s2 = []\n",
    "for v in s:\n",
    "    s2.append(v.upper())\n",
    "s2, s"
   ]
  },
  {
   "cell_type": "code",
   "execution_count": 65,
   "id": "4ac56b7b",
   "metadata": {},
   "outputs": [
    {
     "data": {
      "text/plain": [
       "['A', 'B', 'C', 'ABC']"
      ]
     },
     "execution_count": 65,
     "metadata": {},
     "output_type": "execute_result"
    }
   ],
   "source": [
    "# list comprehension\n",
    "s3 = [v.upper() for v in s]\n",
    "s3"
   ]
  },
  {
   "cell_type": "code",
   "execution_count": 66,
   "id": "a516076a",
   "metadata": {},
   "outputs": [
    {
     "data": {
      "text/plain": [
       "{'A', 'ABC', 'B', 'C'}"
      ]
     },
     "execution_count": 66,
     "metadata": {},
     "output_type": "execute_result"
    }
   ],
   "source": [
    "# set comprehension\n",
    "\n",
    "s4 = {v.upper() for v in s}\n",
    "s4"
   ]
  },
  {
   "cell_type": "code",
   "execution_count": 67,
   "id": "dbda5aae",
   "metadata": {},
   "outputs": [
    {
     "data": {
      "text/plain": [
       "{'a': 'A', 'b': 'B', 'c': 'C', 'abc': 'ABC'}"
      ]
     },
     "execution_count": 67,
     "metadata": {},
     "output_type": "execute_result"
    }
   ],
   "source": [
    "# dict comprehension\n",
    "\n",
    "s5 = {v:v.upper() for v in s}\n",
    "s5"
   ]
  },
  {
   "cell_type": "code",
   "execution_count": 70,
   "id": "ce09c262",
   "metadata": {},
   "outputs": [
    {
     "data": {
      "text/plain": [
       "['A', 'B', 'C', 'R']"
      ]
     },
     "execution_count": 70,
     "metadata": {},
     "output_type": "execute_result"
    }
   ],
   "source": [
    "s = ['a', 'b', 'c', 'abc', 'def', 'ak', 'r']\n",
    "\n",
    "# s의 원소 중 글자수가 1글자인 원소만 대문자로 바꾼 값들을 갖는 배열\n",
    "\n",
    "# 기존 방식\n",
    "s2 = []\n",
    "for v in s:\n",
    "    if len(v) == 1:\n",
    "        s2.append(v.upper())\n",
    "        \n",
    "s2"
   ]
  },
  {
   "cell_type": "code",
   "execution_count": 71,
   "id": "a20fa0f8",
   "metadata": {},
   "outputs": [
    {
     "data": {
      "text/plain": [
       "['A', 'B', 'C', 'R']"
      ]
     },
     "execution_count": 71,
     "metadata": {},
     "output_type": "execute_result"
    }
   ],
   "source": [
    "# s = ['a', 'b', 'c', 'abc', 'def', 'ak', 'r']\n",
    "\n",
    "# filtering\n",
    "\n",
    "s3 = [v.upper() for v in s if len(v)==1]\n",
    "s3"
   ]
  },
  {
   "cell_type": "code",
   "execution_count": 73,
   "id": "bf9ec259",
   "metadata": {},
   "outputs": [
    {
     "data": {
      "text/plain": [
       "['A', 'B', 'C', 'ABC', 'DEF', 'AK', 'R']"
      ]
     },
     "execution_count": 73,
     "metadata": {},
     "output_type": "execute_result"
    }
   ],
   "source": [
    "s4 = [v.upper() for v in s]\n",
    "s4"
   ]
  },
  {
   "cell_type": "code",
   "execution_count": 74,
   "id": "9cd4723f",
   "metadata": {},
   "outputs": [
    {
     "data": {
      "text/plain": [
       "{'A', 'B', 'C', 'R'}"
      ]
     },
     "execution_count": 74,
     "metadata": {},
     "output_type": "execute_result"
    }
   ],
   "source": [
    "# filter + mapping\n",
    "\n",
    "s5 = {v.upper() for v in s if len(v)==1}\n",
    "s5"
   ]
  },
  {
   "cell_type": "code",
   "execution_count": null,
   "id": "3c0b24cc",
   "metadata": {},
   "outputs": [],
   "source": [
    "# filter와 map에 대해 아예 함수를 제공해주기도 함\n",
    "\n",
    "print(list(filter(lambda x :len(x)==1, s)))\n",
    "print(list(map(lambda x :x.upper(), s)))"
   ]
  },
  {
   "cell_type": "markdown",
   "id": "c159fb3c",
   "metadata": {},
   "source": [
    "# TODO"
   ]
  },
  {
   "cell_type": "code",
   "execution_count": 27,
   "id": "424d03d8",
   "metadata": {},
   "outputs": [
    {
     "name": "stdout",
     "output_type": "stream",
     "text": [
      "1~100 사이의 점수를 입력하세요: 81\n",
      "B학점\n"
     ]
    }
   ],
   "source": [
    "#(1) 다음 점수 구간에 맞게 학점을 출력하세요.\n",
    "# 91 ~ 100 : A학점\n",
    "# 81 ~ 90 :  B학점\n",
    "# 71 ~ 80 :  C학점\n",
    "# 61 ~ 70 :  D학점\n",
    "# 60이하   :  F학점\n",
    "\n",
    "score = int(input(\"1~100 사이의 점수를 입력하세요: \"))\n",
    "\n",
    "while score<0 or score > 100:\n",
    "    score = int(input(\"1~100 사이의 점수를 입력하세요: \"))\n",
    "\n",
    "if 90 < score and 100 >= score :\n",
    "    print(\"A학점\")\n",
    "elif 80 < score and 90 >= score :\n",
    "    print(\"B학점\")\n",
    "elif 70 < score and 80 >= score :\n",
    "    print(\"C학점\")\n",
    "elif 60 < score  and 70 >= score :\n",
    "    print(\"D학점\")\n",
    "else :\n",
    "    print(\"F학점\")"
   ]
  },
  {
   "cell_type": "code",
   "execution_count": 30,
   "id": "66537f8b",
   "metadata": {},
   "outputs": [
    {
     "name": "stdout",
     "output_type": "stream",
     "text": [
      "ID를 입력하세요: zxcvb\n",
      "zxcvb는(은) 사용할 수 있는 ID입니다.\n"
     ]
    }
   ],
   "source": [
    "#(2) 사용자로 부터 ID를 입력 받은 뒤 입력받은 ID가 5글자 이상이면 \"사용할 수 있습니다.\"를 5글자 미만이면 \"사용할 수 없는 ID입니다.\"를 출력하세요.\n",
    "\n",
    "id = input(\"ID를 입력하세요: \")\n",
    "\n",
    "if len(id) >= 5 :\n",
    "    print(f\"{id}는(은) 사용할 수 있는 ID입니다.\")\n",
    "else :\n",
    "    print(f\"{id}는(은) 사용할 수 없는 ID입니다.\")"
   ]
  },
  {
   "cell_type": "code",
   "execution_count": 34,
   "id": "c954f7a4",
   "metadata": {},
   "outputs": [
    {
     "name": "stdout",
     "output_type": "stream",
     "text": [
      "도시명을 입력하세요: 서울\n",
      "서울특별시\n"
     ]
    }
   ],
   "source": [
    "#(3) 사용자로부터 우리나라 도시명을 입력 받은 뒤 입력받은 도시명이 서울이면 \"특별시\"를 인천,부산,광주,대구,대전,울산 이면 \"광역시\"를 나머지는 \"특별시나 광역시가 아닙니다.\"를 출력하세요.\n",
    "\n",
    "city = input(\"도시명을 입력하세요: \")\n",
    "\n",
    "if city == \"서울\" :\n",
    "    print(f\"{city}특별시\")\n",
    "elif city == \"인천\" or city == \"부산\" or city == \"광주\" or city == \"대구\" or city == \"대전\" or city == \"울산\":\n",
    "    print(f\"{city}광역시\")\n",
    "else :\n",
    "    prin(f\"{city}는(은) 특별시나 광역시가 아닙니다.\")"
   ]
  },
  {
   "cell_type": "code",
   "execution_count": 43,
   "id": "46754a76",
   "metadata": {},
   "outputs": [
    {
     "name": "stdout",
     "output_type": "stream",
     "text": [
      "평균: 89.0\n"
     ]
    }
   ],
   "source": [
    "#(4) 아래 리스트의 평균을 구하시오. \n",
    "jumsu = [100, 90, 100, 80, 70, 100, 80, 90, 95, 85]\n",
    "sum = 0\n",
    "\n",
    "for i in jumsu:\n",
    "    sum += i    # sum(jumsu) => sum(iterable) => iterable의 원소들의 합계를 반환\n",
    "    avr = sum/len(jumsu)\n",
    "\n",
    "print(f\"평균: {avr}\")\n"
   ]
  },
  {
   "cell_type": "markdown",
   "id": "d2ce6efd",
   "metadata": {},
   "source": [
    "### teach code"
   ]
  },
  {
   "cell_type": "code",
   "execution_count": 45,
   "id": "a8fb0d0a",
   "metadata": {},
   "outputs": [
    {
     "name": "stdout",
     "output_type": "stream",
     "text": [
      "0. 점수 : 100 => pass\n",
      "1. 점수 : 90 => pass\n",
      "2. 점수 : 100 => pass\n",
      "3. 점수 : 80 => fail\n",
      "4. 점수 : 70 => fail\n",
      "5. 점수 : 100 => pass\n",
      "6. 점수 : 80 => fail\n",
      "7. 점수 : 90 => pass\n",
      "8. 점수 : 95 => pass\n",
      "9. 점수 : 85 => fail\n"
     ]
    }
   ],
   "source": [
    "#(5) 위 jumsu리스트에서 평균점수이상은 pass, 미만은 fail을 index번호와 함께 출력하시오. (ex: 0-pass, 1-pass, 2-fail)\n",
    "\n",
    "for idx, i in enumerate(jumsu) :\n",
    "    if i >= avr :\n",
    "        print(f'{idx}. 점수 : {i} => pass')\n",
    "    else :\n",
    "        print(f'{idx}. 점수 : {i} => fail')"
   ]
  },
  {
   "cell_type": "code",
   "execution_count": 46,
   "id": "3640fc61",
   "metadata": {},
   "outputs": [
    {
     "name": "stdout",
     "output_type": "stream",
     "text": [
      "최대값:  95\n"
     ]
    }
   ],
   "source": [
    "#(6) 아래 리스트 값들 중 최대값을 조회해 출력\n",
    "jumsu = [60, 90, 80, 80, 70, 55, 80, 90, 95, 85]\n",
    "\n",
    "max_value = 0\n",
    "\n",
    "# 리스트의 원소와 max_value를 비교해서 원소가 더 크면 max_value값을 변경\n",
    "for value in jumsu :\n",
    "    if value > max_value:    # max(jumsu), min(jumsu) => iterable의 최댓값과 최솟값을 반환하는 함수\n",
    "        max_value = value\n",
    "\n",
    "print(\"최대값: \", max_value)"
   ]
  },
  {
   "cell_type": "code",
   "execution_count": 47,
   "id": "c506c5e6",
   "metadata": {},
   "outputs": [
    {
     "name": "stdout",
     "output_type": "stream",
     "text": [
      "소\n",
      "호랑이\n",
      "용\n",
      "뱀\n"
     ]
    }
   ],
   "source": [
    "#(8) 다음 리스트 중에서 \"쥐\"와 \"토끼\" 제외한 나머지를 출력하세요.\n",
    "str_list = [\"쥐\", \"소\", \"호랑이\", \"토끼\", \"용\", \"뱀\"]\n",
    "\n",
    "# 방법1\n",
    "# for a in str_list :\n",
    "#     if a not in ['쥐', '토끼']\n",
    "#     print(a)\n",
    "\n",
    "# 방법 2\n",
    "for a in str_list:\n",
    "    if a in ['쥐', '토끼']:\n",
    "        continue\n",
    "    print(a)"
   ]
  },
  {
   "cell_type": "code",
   "execution_count": 48,
   "id": "cb866d2f",
   "metadata": {},
   "outputs": [
    {
     "name": "stdout",
     "output_type": "stream",
     "text": [
      "단을 입력하세요: 4\n",
      "4 X 1 = 4\n",
      "4 X 2 = 8\n",
      "4 X 3 = 12\n",
      "4 X 4 = 16\n",
      "4 X 5 = 20\n",
      "4 X 6 = 24\n",
      "4 X 7 = 28\n",
      "4 X 8 = 32\n",
      "4 X 9 = 36\n"
     ]
    }
   ],
   "source": [
    "#(9) 사용자로부터 정수를 입력받아 그 단의 구구단을 출력하시오. \n",
    "# ex) 단을 입력하시오 : 2  \n",
    "# 2 x 1 = 2\n",
    "# 2 x 2 = 4\n",
    "#..\n",
    "# 2 x 9 = 18\n",
    "\n",
    "dan = int(input(\"단을 입력하세요: \"))\n",
    "for i in range(1, 10):\n",
    "    print(f\"{dan} X {i} = {dan*i}\")"
   ]
  },
  {
   "cell_type": "code",
   "execution_count": 49,
   "id": "3e0ff7a7",
   "metadata": {},
   "outputs": [
    {
     "data": {
      "text/plain": [
       "[20, 60, 140, 10, 240, 1400, 2, 70]"
      ]
     },
     "execution_count": 49,
     "metadata": {},
     "output_type": "execute_result"
    }
   ],
   "source": [
    "#컴프리헨션\n",
    "#(10) 다음 리스트가 가진 값에 두배(* 2)를 가지는 새로운 리스트를 만드시오. (리스트 컴프리헨션 이용)\n",
    "lst = [10, 30, 70, 5, 120, 700, 1, 35]\n",
    "\n",
    "[i*2 for i in lst]"
   ]
  },
  {
   "cell_type": "code",
   "execution_count": 50,
   "id": "886d5576",
   "metadata": {},
   "outputs": [
    {
     "data": {
      "text/plain": [
       "[(10, 100),\n",
       " (30, 300),\n",
       " (70, 700),\n",
       " (5, 50),\n",
       " (5, 50),\n",
       " (120, 1200),\n",
       " (700, 7000),\n",
       " (1, 10),\n",
       " (35, 350),\n",
       " (35, 350)]"
      ]
     },
     "execution_count": 50,
     "metadata": {},
     "output_type": "execute_result"
    }
   ],
   "source": [
    "#(11) 다음 리스트가 가진 값에 10배의 값을 가지는 값을 (원래값, 10배값) 의 튜플 묶음으로 가지는 리스트를 만드시오 (리스트 컴프리헨션 이용)\n",
    "# Ex) [(10,100), (30,300), .., (35, 350)]\n",
    "lst = [10, 30, 70, 5, 5, 120, 700, 1, 35, 35]\n",
    "\n",
    "[(i, i*10) for i in lst]"
   ]
  },
  {
   "cell_type": "code",
   "execution_count": 52,
   "id": "856a11a3",
   "metadata": {},
   "outputs": [
    {
     "data": {
      "text/plain": [
       "[3, 33, 21, 33, 60, 120]"
      ]
     },
     "execution_count": 52,
     "metadata": {},
     "output_type": "execute_result"
    }
   ],
   "source": [
    "#(12) 다음 리스트가 가진 값들 중 3의 배수만 가지는 리스트를 만드시오. (리스트 컴프리헨션 이용)\n",
    "lst2 = [ 3, 20, 33, 21, 33, 8, 11, 10, 7, 17, 60, 120, 2]\n",
    "\n",
    "[i for i in lst2 if i%3==0]"
   ]
  },
  {
   "cell_type": "code",
   "execution_count": 53,
   "id": "b8bd8f13",
   "metadata": {},
   "outputs": [
    {
     "data": {
      "text/plain": [
       "['a.exe', 'function.exe', 'b.exe', 'run.exe']"
      ]
     },
     "execution_count": 53,
     "metadata": {},
     "output_type": "execute_result"
    }
   ],
   "source": [
    "#(13) 다음 파일이름들을 담은 리스트에서 확장자가 exe인 파일만 골라서 새로운 리스트에 담으시오.(string의 endswith()함수 이용)\n",
    "file_name=[\"test.txt\", \"a.exe\", \"jupyter.bat\", \"function.exe\", \"b.exe\", \"cat.jpg\", \"dog.png\", \"run.exe\", \"i.dll\"]\n",
    "\n",
    "[file for file in file_name if file.endswith(\".exe\")]"
   ]
  },
  {
   "cell_type": "code",
   "execution_count": 55,
   "id": "b59503c5",
   "metadata": {},
   "outputs": [
    {
     "data": {
      "text/plain": [
       "[('mystroy.txt', 11), ('jupyter.bat', 11), ('function.exe', 12)]"
      ]
     },
     "execution_count": 55,
     "metadata": {},
     "output_type": "execute_result"
    }
   ],
   "source": [
    "#(14) 다음 중 10글자 이상인 파일명(확장자포함)만 가지는 리스트를 만드시오.\n",
    "file_name=[\"mystroy.txt\", \"a.exe\", \"jupyter.bat\", \"function.exe\", \"b.exe\", \"cat.jpg\", \"dog.png\", \"run.exe\", \"i.dll\"]\n",
    "\n",
    "# [file for file in file_name if len(file) >= 10]\n",
    "[(file, len(file)) for file in file_name if len(file) >= 10]"
   ]
  },
  {
   "cell_type": "code",
   "execution_count": 62,
   "id": "f4563e90",
   "metadata": {},
   "outputs": [
    {
     "name": "stdout",
     "output_type": "stream",
     "text": [
      "['c', 'g', 'h', 'k']\n",
      "['A', 'B', 'D', 'E', 'F', 'I', 'J']\n"
     ]
    }
   ],
   "source": [
    "#(15) 다음 리스트에서 소문자만 가지는 새로운 리스트를 만드시오.\n",
    "str_list = [\"A\", \"B\", \"c\", \"D\", \"E\", \"F\", \"g\", \"h\", \"I\", \"J\", \"k\"]\n",
    "\n",
    "# 대소문자로 변경\n",
    "print([s.lower() for s in str_list if s.islower()])  # islower() -> 소문자인지 비교해주는 함수\n",
    "print([s.upper() for s in str_list if s.isupper()])  # isupper() -> 대문자인지 비교해주는 함수"
   ]
  },
  {
   "cell_type": "code",
   "execution_count": 57,
   "id": "c4dd285e",
   "metadata": {},
   "outputs": [
    {
     "data": {
      "text/plain": [
       "(False, True)"
      ]
     },
     "execution_count": 57,
     "metadata": {},
     "output_type": "execute_result"
    }
   ],
   "source": [
    "\"A\".islower(), 'a'.islower()    "
   ]
  },
  {
   "cell_type": "code",
   "execution_count": 60,
   "id": "7c1e3818",
   "metadata": {},
   "outputs": [
    {
     "data": {
      "text/plain": [
       "(True, False)"
      ]
     },
     "execution_count": 60,
     "metadata": {},
     "output_type": "execute_result"
    }
   ],
   "source": [
    "\"A\".isupper(), 'a'.isupper()   "
   ]
  },
  {
   "cell_type": "code",
   "execution_count": null,
   "id": "31042801",
   "metadata": {},
   "outputs": [],
   "source": []
  }
 ],
 "metadata": {
  "kernelspec": {
   "display_name": "Python 3",
   "language": "python",
   "name": "python3"
  },
  "language_info": {
   "codemirror_mode": {
    "name": "ipython",
    "version": 3
   },
   "file_extension": ".py",
   "mimetype": "text/x-python",
   "name": "python",
   "nbconvert_exporter": "python",
   "pygments_lexer": "ipython3",
   "version": "3.8.8"
  }
 },
 "nbformat": 4,
 "nbformat_minor": 5
}
