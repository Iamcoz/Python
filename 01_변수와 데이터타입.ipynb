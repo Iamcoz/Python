{
 "cells": [
  {
   "cell_type": "code",
   "execution_count": 1,
   "id": "b1351b9c",
   "metadata": {},
   "outputs": [
    {
     "data": {
      "text/plain": [
       "2"
      ]
     },
     "execution_count": 1,
     "metadata": {},
     "output_type": "execute_result"
    }
   ],
   "source": [
    "# 단축키\n",
    "# shift + enter : 실행 후 다음 cell로 이동\n",
    "# ctrl + enter : 실행 후 현재 cell에 머무름\n",
    "\n",
    "1+1"
   ]
  },
  {
   "cell_type": "code",
   "execution_count": 3,
   "id": "4e413cca",
   "metadata": {},
   "outputs": [
    {
     "data": {
      "text/plain": [
       "5"
      ]
     },
     "execution_count": 3,
     "metadata": {},
     "output_type": "execute_result"
    }
   ],
   "source": [
    "2+3"
   ]
  },
  {
   "cell_type": "code",
   "execution_count": 4,
   "id": "4179e3e8",
   "metadata": {},
   "outputs": [],
   "source": [
    "# 변수\n",
    "name = \"홍길동\"  # '홍길동'이라는 값을 변수에 대입해라\n",
    "               # 이름이 name인 공간이 메모리에 없으면 새로 만들고 대입. 이미 있으면 있는 공간에 대입한다. "
   ]
  },
  {
   "cell_type": "code",
   "execution_count": 5,
   "id": "7960115e",
   "metadata": {},
   "outputs": [
    {
     "name": "stdout",
     "output_type": "stream",
     "text": [
      "홍길동\n"
     ]
    }
   ],
   "source": [
    "print(name) # print(값) -> ()안의 값을 출력하는 함수"
   ]
  },
  {
   "cell_type": "code",
   "execution_count": 6,
   "id": "af4667b9",
   "metadata": {},
   "outputs": [
    {
     "name": "stdout",
     "output_type": "stream",
     "text": [
      "25\n"
     ]
    }
   ],
   "source": [
    "age = 25\n",
    "print(age) # age의 값 출력"
   ]
  },
  {
   "cell_type": "code",
   "execution_count": 7,
   "id": "c4ffb774",
   "metadata": {},
   "outputs": [
    {
     "name": "stdout",
     "output_type": "stream",
     "text": [
      "50\n"
     ]
    }
   ],
   "source": [
    "age = 50   # age의 값을 50으로 대체(재할당)\n",
    "print(age)"
   ]
  },
  {
   "cell_type": "code",
   "execution_count": 8,
   "id": "90c46743",
   "metadata": {},
   "outputs": [
    {
     "name": "stdout",
     "output_type": "stream",
     "text": [
      "홍길동\n"
     ]
    }
   ],
   "source": [
    "print(name)"
   ]
  },
  {
   "cell_type": "code",
   "execution_count": 15,
   "id": "2fa26e03",
   "metadata": {},
   "outputs": [],
   "source": [
    "name = \"최윤지\""
   ]
  },
  {
   "cell_type": "code",
   "execution_count": 16,
   "id": "bb2eea84",
   "metadata": {},
   "outputs": [
    {
     "name": "stdout",
     "output_type": "stream",
     "text": [
      "최윤지\n"
     ]
    }
   ],
   "source": [
    "print(name)"
   ]
  },
  {
   "cell_type": "code",
   "execution_count": 17,
   "id": "8e90a840",
   "metadata": {},
   "outputs": [],
   "source": [
    "age = age + 20  # age 변수가 가진 값과 20을 더하는 연산\n",
    "                #   -> 1에서 처리한 값을 age 변수에 대입"
   ]
  },
  {
   "cell_type": "code",
   "execution_count": 18,
   "id": "979bf24f",
   "metadata": {},
   "outputs": [
    {
     "name": "stdout",
     "output_type": "stream",
     "text": [
      "70\n"
     ]
    }
   ],
   "source": [
    "print(age)"
   ]
  },
  {
   "cell_type": "code",
   "execution_count": 19,
   "id": "43a10b80",
   "metadata": {},
   "outputs": [],
   "source": [
    "age2 = age-30"
   ]
  },
  {
   "cell_type": "code",
   "execution_count": 20,
   "id": "4ae78fb6",
   "metadata": {},
   "outputs": [
    {
     "name": "stdout",
     "output_type": "stream",
     "text": [
      "40\n"
     ]
    }
   ],
   "source": [
    "print(age2)"
   ]
  },
  {
   "cell_type": "code",
   "execution_count": 21,
   "id": "ef2faca4",
   "metadata": {},
   "outputs": [
    {
     "name": "stdout",
     "output_type": "stream",
     "text": [
      "70\n"
     ]
    }
   ],
   "source": [
    "print(age)"
   ]
  },
  {
   "cell_type": "code",
   "execution_count": 23,
   "id": "631b435d",
   "metadata": {},
   "outputs": [
    {
     "name": "stdout",
     "output_type": "stream",
     "text": [
      "70 50\n"
     ]
    }
   ],
   "source": [
    "Age = 50\n",
    "print(age, Age) # 두개의 값을 한번에 출력"
   ]
  },
  {
   "cell_type": "code",
   "execution_count": 24,
   "id": "57756f6d",
   "metadata": {},
   "outputs": [
    {
     "name": "stdout",
     "output_type": "stream",
     "text": [
      "서울시 서초구 서초동\n"
     ]
    }
   ],
   "source": [
    "주소 = '서울시 서초구 서초동'\n",
    "print(주소)"
   ]
  },
  {
   "cell_type": "code",
   "execution_count": 25,
   "id": "dd160614",
   "metadata": {},
   "outputs": [
    {
     "name": "stdout",
     "output_type": "stream",
     "text": [
      "서울시 강남구\n"
     ]
    }
   ],
   "source": [
    "우리집_주소 = '서울시 강남구' # 특수문자 '_'를 단어 사이의 구분자로 사용하기도 한다.\n",
    "print(우리집_주소)"
   ]
  },
  {
   "cell_type": "code",
   "execution_count": 26,
   "id": "dcd97faf",
   "metadata": {},
   "outputs": [],
   "source": [
    "# myemailaddress 보다\n",
    "my_email_address = 'cozisdev@gmail.com' # 스네이크 표기법\n",
    "myEmailAddress = 'cozcozcoz@gmail.com' # 카멜 표기법"
   ]
  },
  {
   "cell_type": "code",
   "execution_count": 27,
   "id": "089399bd",
   "metadata": {},
   "outputs": [],
   "source": [
    "#5age = 30   # Error : 숫자를 첫번째 글자로 사용할 수 없다."
   ]
  },
  {
   "cell_type": "code",
   "execution_count": null,
   "id": "161043c9",
   "metadata": {},
   "outputs": [],
   "source": []
  },
  {
   "cell_type": "code",
   "execution_count": 28,
   "id": "cb4d7bd9",
   "metadata": {},
   "outputs": [],
   "source": [
    "#여러개의 변수에 같은 값을 대입\n",
    "a = 10\n",
    "b = 10\n",
    "c = 10"
   ]
  },
  {
   "cell_type": "code",
   "execution_count": 29,
   "id": "b98fa979",
   "metadata": {},
   "outputs": [],
   "source": [
    "a = b = c = 20"
   ]
  },
  {
   "cell_type": "code",
   "execution_count": 31,
   "id": "97dac427",
   "metadata": {},
   "outputs": [
    {
     "name": "stdout",
     "output_type": "stream",
     "text": [
      "20 20 20\n"
     ]
    }
   ],
   "source": [
    "print(a, b, c)"
   ]
  },
  {
   "cell_type": "code",
   "execution_count": 32,
   "id": "a239cca2",
   "metadata": {},
   "outputs": [
    {
     "name": "stdout",
     "output_type": "stream",
     "text": [
      "0 0 0 0 0\n"
     ]
    }
   ],
   "source": [
    "age1 = age2 = age3 = age4 = age5 = 0\n",
    "print(age1, age2, age3, age4, age5)"
   ]
  },
  {
   "cell_type": "code",
   "execution_count": 33,
   "id": "15a88045",
   "metadata": {},
   "outputs": [
    {
     "name": "stdout",
     "output_type": "stream",
     "text": [
      "10 10 10\n"
     ]
    }
   ],
   "source": [
    "# 여러개의 값을 여러개의 변수에 한 번에 대입\n",
    "\n",
    "# 방법 1\n",
    "a = 10\n",
    "b = 10\n",
    "c = 10\n",
    "\n",
    "# 방법 2 : 튜플 대입(Tuple assigment)\n",
    "a, b, c = 10, 10, 10   # 변수의 개수와 값의 개수가 같아야 한다.\n",
    "\n",
    "print(a, b, c)"
   ]
  },
  {
   "cell_type": "code",
   "execution_count": 34,
   "id": "69efe82c",
   "metadata": {},
   "outputs": [],
   "source": [
    "# 변수를 메모리에서 삭제\n",
    "del age1"
   ]
  },
  {
   "cell_type": "code",
   "execution_count": 35,
   "id": "031df5c0",
   "metadata": {},
   "outputs": [
    {
     "ename": "NameError",
     "evalue": "name 'age1' is not defined",
     "output_type": "error",
     "traceback": [
      "\u001b[0;31m---------------------------------------------------------------------------\u001b[0m",
      "\u001b[0;31mNameError\u001b[0m                                 Traceback (most recent call last)",
      "\u001b[0;32m<ipython-input-35-43b101c817ae>\u001b[0m in \u001b[0;36m<module>\u001b[0;34m\u001b[0m\n\u001b[0;32m----> 1\u001b[0;31m \u001b[0mprint\u001b[0m\u001b[0;34m(\u001b[0m\u001b[0mage1\u001b[0m\u001b[0;34m)\u001b[0m\u001b[0;34m\u001b[0m\u001b[0;34m\u001b[0m\u001b[0m\n\u001b[0m",
      "\u001b[0;31mNameError\u001b[0m: name 'age1' is not defined"
     ]
    }
   ],
   "source": [
    "print(age1)"
   ]
  },
  {
   "cell_type": "code",
   "execution_count": 36,
   "id": "bf7a8998",
   "metadata": {},
   "outputs": [
    {
     "name": "stdout",
     "output_type": "stream",
     "text": [
      "30\n",
      "스무살\n",
      "25.7\n"
     ]
    }
   ],
   "source": [
    "# 동적타입 언어 : 하나의 변수에 다양한 타입의 값들을 대입할 수 있다\n",
    "\n",
    "# 정수 대입\n",
    "age = 30\n",
    "print(age)\n",
    "\n",
    "# 문자열 대입\n",
    "age = '스무살'\n",
    "print(age)\n",
    "\n",
    "# 실수 대입\n",
    "age = 25.7\n",
    "print(age)"
   ]
  },
  {
   "cell_type": "code",
   "execution_count": 38,
   "id": "a3f897cf",
   "metadata": {},
   "outputs": [],
   "source": [
    "# 정적 타입 언어 : 변수에 타입을 지정하여 해당 타입의 값들만 저장 가능\n",
    "\n",
    "#int age = 20\n",
    "#age = 40\n",
    "#age = 50\n",
    "\n",
    "# age = '스무살' -> Error"
   ]
  },
  {
   "cell_type": "code",
   "execution_count": 40,
   "id": "2841b04d",
   "metadata": {},
   "outputs": [
    {
     "data": {
      "text/plain": [
       "float"
      ]
     },
     "execution_count": 40,
     "metadata": {},
     "output_type": "execute_result"
    }
   ],
   "source": [
    "#값, 변수의 타입을 확인하는 함수 - type(값)\n",
    "type(age)"
   ]
  },
  {
   "cell_type": "code",
   "execution_count": 41,
   "id": "eb9d52df",
   "metadata": {},
   "outputs": [
    {
     "data": {
      "text/plain": [
       "(int, float, str)"
      ]
     },
     "execution_count": 41,
     "metadata": {},
     "output_type": "execute_result"
    }
   ],
   "source": [
    "tall = 178\n",
    "type(tall), type(age), type(name)"
   ]
  },
  {
   "cell_type": "code",
   "execution_count": null,
   "id": "b29ee61c",
   "metadata": {},
   "outputs": [],
   "source": []
  },
  {
   "cell_type": "code",
   "execution_count": 1,
   "id": "d099f966",
   "metadata": {},
   "outputs": [
    {
     "name": "stdout",
     "output_type": "stream",
     "text": [
      "0.5 356.7\n"
     ]
    }
   ],
   "source": [
    "# 5/10 데이터 타입\n",
    "\n",
    "# 숫자형\n",
    "f1 = 0.5\n",
    "f2 = 356.7\n",
    "print(f1, f2)"
   ]
  },
  {
   "cell_type": "code",
   "execution_count": 2,
   "id": "7f6fbd96",
   "metadata": {},
   "outputs": [
    {
     "name": "stdout",
     "output_type": "stream",
     "text": [
      "0.5\n"
     ]
    }
   ],
   "source": [
    "f3 = .5  # 정수부가 0인경우 0을 생략할 수 있다.\n",
    "print(f3)"
   ]
  },
  {
   "cell_type": "code",
   "execution_count": 3,
   "id": "b74ac1a5",
   "metadata": {},
   "outputs": [
    {
     "name": "stdout",
     "output_type": "stream",
     "text": [
      "30000000000.0\n"
     ]
    }
   ],
   "source": [
    "# 지수 표기법\n",
    "f4 = 3e10  # 3x10**10\n",
    "print(f4)"
   ]
  },
  {
   "cell_type": "code",
   "execution_count": 4,
   "id": "138af28d",
   "metadata": {},
   "outputs": [
    {
     "name": "stdout",
     "output_type": "stream",
     "text": [
      "324600000.0 <class 'float'>\n"
     ]
    }
   ],
   "source": [
    "f5 = 3246e5\n",
    "print(f5, type(f5))"
   ]
  },
  {
   "cell_type": "code",
   "execution_count": 5,
   "id": "d3f7ad37",
   "metadata": {},
   "outputs": [
    {
     "name": "stdout",
     "output_type": "stream",
     "text": [
      "0.003\n"
     ]
    }
   ],
   "source": [
    "f6 = 3e-3  # 3x10**-3\n",
    "print(f6)"
   ]
  },
  {
   "cell_type": "code",
   "execution_count": 6,
   "id": "616e8250",
   "metadata": {},
   "outputs": [
    {
     "data": {
      "text/plain": [
       "(int, float)"
      ]
     },
     "execution_count": 6,
     "metadata": {},
     "output_type": "execute_result"
    }
   ],
   "source": [
    "type(10), type(3.2)  # int = 정수타입 / float = 실수타입"
   ]
  },
  {
   "cell_type": "code",
   "execution_count": 10,
   "id": "506e817a",
   "metadata": {},
   "outputs": [
    {
     "name": "stdout",
     "output_type": "stream",
     "text": [
      "32\n",
      "3.3333333333333335\n",
      "3\n",
      "1\n"
     ]
    }
   ],
   "source": [
    "print(2**5) # 제곱연산자\n",
    "print(10/3) # 나누기\n",
    "print(10//3)  # 몫\n",
    "print(10%3)   # 나머지"
   ]
  },
  {
   "cell_type": "code",
   "execution_count": 13,
   "id": "590f3dd3",
   "metadata": {},
   "outputs": [
    {
     "name": "stdout",
     "output_type": "stream",
     "text": [
      "True\n"
     ]
    }
   ],
   "source": [
    "num = 1000\n",
    "\n",
    "# Q. num이 5의 배수인가요?\n",
    "print(num%5 == 0)  # 결과가 0이면 5의 배수"
   ]
  },
  {
   "cell_type": "code",
   "execution_count": 14,
   "id": "058a958b",
   "metadata": {},
   "outputs": [
    {
     "name": "stdout",
     "output_type": "stream",
     "text": [
      "True False\n"
     ]
    }
   ],
   "source": [
    "# 논리형\n",
    "\n",
    "b1 = True\n",
    "b2 = False\n",
    "print(b1, b2)"
   ]
  },
  {
   "cell_type": "code",
   "execution_count": 16,
   "id": "7dfc9ab1",
   "metadata": {},
   "outputs": [
    {
     "name": "stdout",
     "output_type": "stream",
     "text": [
      "False True True\n",
      "False False True True\n",
      "False\n"
     ]
    }
   ],
   "source": [
    "# bool(값) => 다른 타입의 값을 논리형으로 변환\n",
    "# 빈 문자열, 0, None => False\n",
    "\n",
    "\n",
    "print(bool(''), bool('abc'), bool(' '))\n",
    "print(bool(0), bool(0.0), bool(50), bool(-50))\n",
    "print(bool(None))"
   ]
  },
  {
   "cell_type": "code",
   "execution_count": 18,
   "id": "e0d1af0b",
   "metadata": {},
   "outputs": [
    {
     "name": "stdout",
     "output_type": "stream",
     "text": [
      "False\n",
      "True\n",
      "True\n",
      "False\n",
      "--------\n",
      "True\n"
     ]
    }
   ],
   "source": [
    "# 비교 연산자\n",
    "\n",
    "print(5==10)\n",
    "print(10==10)\n",
    "print(5!=10)\n",
    "print(10!=10)\n",
    "print(\"--------\")\n",
    "print('abc'=='abc')"
   ]
  },
  {
   "cell_type": "code",
   "execution_count": 19,
   "id": "52d4cd4e",
   "metadata": {},
   "outputs": [
    {
     "name": "stdout",
     "output_type": "stream",
     "text": [
      "True\n",
      "False\n",
      "True\n"
     ]
    }
   ],
   "source": [
    "print(10>5)\n",
    "print(10<5)\n",
    "print(10>=10)"
   ]
  },
  {
   "cell_type": "code",
   "execution_count": 47,
   "id": "2025e575",
   "metadata": {},
   "outputs": [
    {
     "name": "stdout",
     "output_type": "stream",
     "text": [
      "97 98\n",
      "False\n"
     ]
    }
   ],
   "source": [
    "print(ord('a'), ord('b'))  # 문자를 숫자로 변환\n",
    "print('a'>'b')"
   ]
  },
  {
   "cell_type": "code",
   "execution_count": 42,
   "id": "589efdf5",
   "metadata": {},
   "outputs": [
    {
     "name": "stdout",
     "output_type": "stream",
     "text": [
      "35 49 97 44032\n"
     ]
    }
   ],
   "source": [
    "# 특수문자 < 숫자 < 영문자 < 한글\n",
    "print(ord('#'), ord('1'), ord('a'), ord('가'))"
   ]
  },
  {
   "cell_type": "code",
   "execution_count": 30,
   "id": "4402b779",
   "metadata": {},
   "outputs": [
    {
     "name": "stdout",
     "output_type": "stream",
     "text": [
      "True\n"
     ]
    }
   ],
   "source": [
    "# 여러 글자의 경우 각항의 맨 앞에서부터 한글자씩 비교한다.\n",
    "# 앞에서 어느것이 더 큰지 판결 났을 경우 연산을 멈춘다\n",
    "# ex. abcd까지 동일하니 f와 e로 판결을 내고 뒤의 g는 연산하지 않음\n",
    "\n",
    "print('abcdfg' > 'abcdefg')"
   ]
  },
  {
   "cell_type": "code",
   "execution_count": 31,
   "id": "00f44e4a",
   "metadata": {},
   "outputs": [
    {
     "name": "stdout",
     "output_type": "stream",
     "text": [
      "False\n"
     ]
    }
   ],
   "source": [
    "num = 30\n",
    "\n",
    "# Q.num이 5~20에 포함되는 숫자인가?\n",
    "\n",
    "#result = num > 5 and num < 20\n",
    "result = (num > 5) & (num < 20) # 논리연산자를 사용할 땐 꼭 괄호로 묶어줘야 함\n",
    "\n",
    "print(result)"
   ]
  },
  {
   "cell_type": "code",
   "execution_count": 48,
   "id": "ede3d301",
   "metadata": {},
   "outputs": [
    {
     "name": "stdout",
     "output_type": "stream",
     "text": [
      "False\n",
      "True\n"
     ]
    }
   ],
   "source": [
    "num = 10\n",
    "\n",
    "# Q. num이 5~20에 포함되지 않는 숫자인가?\n",
    "\n",
    "# result = num < 5 or num > 20\n",
    "result = (num < 5) | (num > 20) \n",
    "\n",
    "print(result)\n",
    "print(not result)"
   ]
  },
  {
   "cell_type": "code",
   "execution_count": 35,
   "id": "0dae73c1",
   "metadata": {},
   "outputs": [
    {
     "data": {
      "text/plain": [
       "True"
      ]
     },
     "execution_count": 35,
     "metadata": {},
     "output_type": "execute_result"
    }
   ],
   "source": [
    "True ^ False"
   ]
  },
  {
   "cell_type": "code",
   "execution_count": 36,
   "id": "c4977010",
   "metadata": {},
   "outputs": [
    {
     "data": {
      "text/plain": [
       "False"
      ]
     },
     "execution_count": 36,
     "metadata": {},
     "output_type": "execute_result"
    }
   ],
   "source": [
    "True ^ True"
   ]
  },
  {
   "cell_type": "code",
   "execution_count": 37,
   "id": "dcbc91ce",
   "metadata": {},
   "outputs": [
    {
     "data": {
      "text/plain": [
       "False"
      ]
     },
     "execution_count": 37,
     "metadata": {},
     "output_type": "execute_result"
    }
   ],
   "source": [
    "False ^ False"
   ]
  },
  {
   "cell_type": "code",
   "execution_count": 45,
   "id": "adfd0df5",
   "metadata": {},
   "outputs": [
    {
     "name": "stdout",
     "output_type": "stream",
     "text": [
      "음수\n"
     ]
    }
   ],
   "source": [
    "# 조건 연산자\n",
    "\n",
    "num = -10\n",
    "\n",
    "var = '양수' if num >= 0 else '음수'\n",
    "\n",
    "print(var)"
   ]
  },
  {
   "cell_type": "code",
   "execution_count": 51,
   "id": "898351be",
   "metadata": {},
   "outputs": [
    {
     "name": "stdout",
     "output_type": "stream",
     "text": [
      "가나다 \b라\n",
      " \n",
      "abc\n",
      "def\n",
      "ghi\n",
      " \n",
      "가나다\n",
      "라마바\n",
      "사아자\n",
      " \n",
      "abc\tdef\n"
     ]
    }
   ],
   "source": [
    "# escape 문자\n",
    "\n",
    "print('가나다 \\b라')       #백스페이스\n",
    "print(' ')\n",
    "print('abc\\ndef\\nghi')   #줄넘김\n",
    "print(' ')\n",
    "print('''가나다\n",
    "라마바\n",
    "사아자''')\n",
    "print(' ')\n",
    "print('abc\\tdef')        #탭"
   ]
  },
  {
   "cell_type": "code",
   "execution_count": 52,
   "id": "9a7394a3",
   "metadata": {},
   "outputs": [
    {
     "name": "stdout",
     "output_type": "stream",
     "text": [
      "a\\a\\a\n"
     ]
    }
   ],
   "source": [
    "# '\\' 자체를 나타내고 싶을 땐 어떻게 작성?\n",
    "print('a\\\\a\\\\a')"
   ]
  },
  {
   "cell_type": "code",
   "execution_count": 53,
   "id": "1ea38591",
   "metadata": {},
   "outputs": [
    {
     "name": "stdout",
     "output_type": "stream",
     "text": [
      "C:\\Windows\\tsytem32\\nmd.exe\n"
     ]
    }
   ],
   "source": [
    "# \\가 escape 문자로 쓰이는 기능을 무효화 => r-string\n",
    "print(r'C:\\Windows\\tsytem32\\nmd.exe')"
   ]
  },
  {
   "cell_type": "code",
   "execution_count": 55,
   "id": "3b63b1a3",
   "metadata": {},
   "outputs": [
    {
     "name": "stdout",
     "output_type": "stream",
     "text": [
      "I'm a boy\n",
      "I'm a boy\n"
     ]
    }
   ],
   "source": [
    "# print('I'm a boy')  # Error\n",
    "print('I\\'m a boy')\n",
    "print(\"I'm a boy\")"
   ]
  },
  {
   "cell_type": "code",
   "execution_count": 56,
   "id": "622e5be7",
   "metadata": {},
   "outputs": [
    {
     "name": "stdout",
     "output_type": "stream",
     "text": [
      "abc'def\"ghi\n"
     ]
    }
   ],
   "source": [
    "# 큰땀 작땀 둘 다 쓰고싶을 땐 무조건 둘중 하나를 \\처리 해줘야함\n",
    "print(\"abc'def\\\"ghi\")"
   ]
  },
  {
   "cell_type": "code",
   "execution_count": 57,
   "id": "d58fc7db",
   "metadata": {},
   "outputs": [
    {
     "name": "stdout",
     "output_type": "stream",
     "text": [
      "ab\n",
      "이름 : 최윤지\n"
     ]
    }
   ],
   "source": [
    "#문자열 연산자\n",
    "\n",
    "print('a'+'b')  # str + str 가능\n",
    "\n",
    "name = '최윤지'\n",
    "print(\"이름 : \"+name)"
   ]
  },
  {
   "cell_type": "code",
   "execution_count": 59,
   "id": "a21d62e3",
   "metadata": {},
   "outputs": [
    {
     "name": "stdout",
     "output_type": "stream",
     "text": [
      "나이: 20\n",
      "키: 159\n"
     ]
    }
   ],
   "source": [
    "age = 20\n",
    "tall = 159\n",
    "print(\"나이: \" +str(age))  #str + 숫자 하려면 형변환 해줘야함\n",
    "print('키: '+str(tall))"
   ]
  },
  {
   "cell_type": "code",
   "execution_count": 63,
   "id": "0d76517d",
   "metadata": {},
   "outputs": [
    {
     "name": "stdout",
     "output_type": "stream",
     "text": [
      "---\n",
      "oz\toz\toz\t\n"
     ]
    }
   ],
   "source": [
    "#특정 문자 반복 가능\n",
    "print('-'*3)\n",
    "print('oz\\t'*3)"
   ]
  },
  {
   "cell_type": "code",
   "execution_count": 67,
   "id": "864a01d3",
   "metadata": {},
   "outputs": [
    {
     "name": "stdout",
     "output_type": "stream",
     "text": [
      "최윤지 3\n",
      "6\n"
     ]
    }
   ],
   "source": [
    "print(name, len(name))\n",
    "print(len('qwerty'))"
   ]
  },
  {
   "cell_type": "code",
   "execution_count": 70,
   "id": "30037ca6",
   "metadata": {},
   "outputs": [
    {
     "name": "stdout",
     "output_type": "stream",
     "text": [
      "True False\n"
     ]
    }
   ],
   "source": [
    "addr = '설 섳구 섳동'\n",
    "\n",
    "# Q. addr 문자열 안에 \"설\" 있음?\n",
    "r = \"설\" in addr\n",
    "r2 = \"종\" in addr\n",
    "print(r, r2)"
   ]
  },
  {
   "cell_type": "code",
   "execution_count": 71,
   "id": "f7576320",
   "metadata": {},
   "outputs": [
    {
     "name": "stdout",
     "output_type": "stream",
     "text": [
      "False True\n"
     ]
    }
   ],
   "source": [
    "# Q. addr 문자열 안에 \"설\" 없음?\n",
    "r = \"설\" not in addr\n",
    "r2 = \"종로\" not in addr\n",
    "print(r, r2)"
   ]
  },
  {
   "cell_type": "code",
   "execution_count": 72,
   "id": "388f493f",
   "metadata": {},
   "outputs": [
    {
     "data": {
      "text/plain": [
       "2"
      ]
     },
     "execution_count": 72,
     "metadata": {},
     "output_type": "execute_result"
    }
   ],
   "source": [
    "2 + 2\n",
    "3 + 3\n",
    "1 + 1"
   ]
  },
  {
   "cell_type": "code",
   "execution_count": 73,
   "id": "919fe16d",
   "metadata": {},
   "outputs": [
    {
     "name": "stdout",
     "output_type": "stream",
     "text": [
      "4\n",
      "6\n",
      "2\n"
     ]
    }
   ],
   "source": [
    "print(2+2)\n",
    "print(3+3)\n",
    "print(1+1)"
   ]
  },
  {
   "cell_type": "code",
   "execution_count": 76,
   "id": "5e006518",
   "metadata": {},
   "outputs": [
    {
     "data": {
      "text/plain": [
       "'a'"
      ]
     },
     "execution_count": 76,
     "metadata": {},
     "output_type": "execute_result"
    }
   ],
   "source": [
    "\"a\""
   ]
  },
  {
   "cell_type": "code",
   "execution_count": 77,
   "id": "4f307ef7",
   "metadata": {},
   "outputs": [
    {
     "name": "stdout",
     "output_type": "stream",
     "text": [
      "a\n"
     ]
    }
   ],
   "source": [
    "print(\"a\")"
   ]
  },
  {
   "cell_type": "code",
   "execution_count": 78,
   "id": "5b15eed2",
   "metadata": {},
   "outputs": [
    {
     "name": "stdout",
     "output_type": "stream",
     "text": [
      "a|20|30|3.2323\n"
     ]
    }
   ],
   "source": [
    "print(\"a\", 20, \"30\", 3.2323, sep='|')"
   ]
  },
  {
   "cell_type": "code",
   "execution_count": 79,
   "id": "febc2c0d",
   "metadata": {},
   "outputs": [
    {
     "name": "stdout",
     "output_type": "stream",
     "text": [
      "abc\n",
      "def\n"
     ]
    }
   ],
   "source": [
    "#print()는 출력할 값 뒤에 엔터를 자동적으로 붙여준다.\n",
    "print('abc')\n",
    "print('def')"
   ]
  },
  {
   "cell_type": "code",
   "execution_count": 81,
   "id": "8832efbf",
   "metadata": {},
   "outputs": [
    {
     "name": "stdout",
     "output_type": "stream",
     "text": [
      "abc-def\n"
     ]
    }
   ],
   "source": [
    "print('abc', end='-')\n",
    "print('def')"
   ]
  },
  {
   "cell_type": "code",
   "execution_count": 82,
   "id": "d5c6cab2",
   "metadata": {},
   "outputs": [],
   "source": [
    "# 인덱싱"
   ]
  },
  {
   "cell_type": "code",
   "execution_count": 86,
   "id": "b246e924",
   "metadata": {},
   "outputs": [
    {
     "name": "stdout",
     "output_type": "stream",
     "text": [
      "2번 idx :  하\n",
      "7번 idx :  반\n",
      "\n",
      "뒤에서 2번 idx :  다\n",
      "뒤에서 9번 idx :  요\n"
     ]
    }
   ],
   "source": [
    "s = \"안녕하세요. 반갑습니다.\"\n",
    "\n",
    "# 양수 idx\n",
    "print(\"2번 idx : \", s[2])\n",
    "print(\"7번 idx : \", s[7])\n",
    "\n",
    "# 음수 idx\n",
    "print(\"\\n뒤에서 2번 idx : \", s[-2])\n",
    "print(\"뒤에서 9번 idx : \", s[-9])"
   ]
  },
  {
   "cell_type": "code",
   "execution_count": 87,
   "id": "de4de61d",
   "metadata": {},
   "outputs": [
    {
     "name": "stdout",
     "output_type": "stream",
     "text": [
      "반 반\n"
     ]
    }
   ],
   "source": [
    "# 모든 글자들은 idx가 두개다.(앞에서부터, 뒤에서부터)\n",
    "# 양 idx는 0부터, 음 idx는 -1부터 시작\n",
    "\n",
    "print(s[7], s[-6])"
   ]
  },
  {
   "cell_type": "code",
   "execution_count": 89,
   "id": "39cb42f5",
   "metadata": {},
   "outputs": [
    {
     "name": "stdout",
     "output_type": "stream",
     "text": [
      "Hello, World\n"
     ]
    }
   ],
   "source": [
    "# index를 이용해 문자열 내 특정 문자를 변경할 수 없다.\n",
    "# s[3] = '가'    # Error\n",
    "\n",
    "# 그러나 문자열 자체를 통째로 변경하는 것은 가능\n",
    "\n",
    "s = \"Hello, World\"\n",
    "print(s)"
   ]
  },
  {
   "cell_type": "code",
   "execution_count": 90,
   "id": "1668b1e8",
   "metadata": {},
   "outputs": [
    {
     "name": "stdout",
     "output_type": "stream",
     "text": [
      "14\n"
     ]
    }
   ],
   "source": [
    "s = \"abcdefghijklmn\"\n",
    "print(len(s)) #14글자 : idx 0~13"
   ]
  },
  {
   "cell_type": "code",
   "execution_count": 91,
   "id": "38529aee",
   "metadata": {},
   "outputs": [
    {
     "data": {
      "text/plain": [
       "'cegi'"
      ]
     },
     "execution_count": 91,
     "metadata": {},
     "output_type": "execute_result"
    }
   ],
   "source": [
    "s[2:10:2]  #범위: 2~9 간격: +2"
   ]
  },
  {
   "cell_type": "code",
   "execution_count": 93,
   "id": "0639d1fd",
   "metadata": {},
   "outputs": [
    {
     "data": {
      "text/plain": [
       "'cdefghij'"
      ]
     },
     "execution_count": 93,
     "metadata": {},
     "output_type": "execute_result"
    }
   ],
   "source": [
    "s[2:10:1]\n",
    "# s[2:10]   -> 간격이 1이면 생략 가능"
   ]
  },
  {
   "cell_type": "code",
   "execution_count": 95,
   "id": "f642dc68",
   "metadata": {},
   "outputs": [
    {
     "data": {
      "text/plain": [
       "'abcdefghij'"
      ]
     },
     "execution_count": 95,
     "metadata": {},
     "output_type": "execute_result"
    }
   ],
   "source": [
    "# 시작 생략 - 0번 idx부터 조회\n",
    "s[:10]"
   ]
  },
  {
   "cell_type": "code",
   "execution_count": 96,
   "id": "34e114bc",
   "metadata": {},
   "outputs": [
    {
     "data": {
      "text/plain": [
       "'klmn'"
      ]
     },
     "execution_count": 96,
     "metadata": {},
     "output_type": "execute_result"
    }
   ],
   "source": [
    "# 종료 생략 - 마지막 idx까지 조회\n",
    "s[10:]"
   ]
  },
  {
   "cell_type": "code",
   "execution_count": 97,
   "id": "fadb0a47",
   "metadata": {},
   "outputs": [
    {
     "data": {
      "text/plain": [
       "'adgjm'"
      ]
     },
     "execution_count": 97,
     "metadata": {},
     "output_type": "execute_result"
    }
   ],
   "source": [
    "s[::3]"
   ]
  },
  {
   "cell_type": "code",
   "execution_count": 98,
   "id": "675ea016",
   "metadata": {},
   "outputs": [
    {
     "data": {
      "text/plain": [
       "'fedc'"
      ]
     },
     "execution_count": 98,
     "metadata": {},
     "output_type": "execute_result"
    }
   ],
   "source": [
    "s[5:1:-1]  # 5~2"
   ]
  },
  {
   "cell_type": "code",
   "execution_count": 99,
   "id": "3170f1bd",
   "metadata": {},
   "outputs": [
    {
     "data": {
      "text/plain": [
       "'nmlkjihgfedcba'"
      ]
     },
     "execution_count": 99,
     "metadata": {},
     "output_type": "execute_result"
    }
   ],
   "source": [
    "s[::-1]  # reverse"
   ]
  },
  {
   "cell_type": "code",
   "execution_count": 100,
   "id": "b22e3908",
   "metadata": {},
   "outputs": [
    {
     "data": {
      "text/plain": [
       "'mlkjihgfe'"
      ]
     },
     "execution_count": 100,
     "metadata": {},
     "output_type": "execute_result"
    }
   ],
   "source": [
    "s[-2:3:-1]"
   ]
  },
  {
   "cell_type": "code",
   "execution_count": 106,
   "id": "e89f9105",
   "metadata": {},
   "outputs": [],
   "source": [
    "name1, age1, address1 = '최윤지', 25, '서울'\n",
    "name2, age2, address2 = '이순신', 10, '인천'\n",
    "name3, age3, address3 = '강감찬', 10, '부산'"
   ]
  },
  {
   "cell_type": "code",
   "execution_count": 107,
   "id": "e3f92e4c",
   "metadata": {},
   "outputs": [
    {
     "name": "stdout",
     "output_type": "stream",
     "text": [
      "이름: 최윤지\n",
      "나이: 25세\n",
      "주소: 서울\n"
     ]
    }
   ],
   "source": [
    "info1 = \"이름: \"+name1+\"\\n나이: \"+str(age1)+\"세\\n주소: \"+address1\n",
    "print(info1)"
   ]
  },
  {
   "cell_type": "code",
   "execution_count": 108,
   "id": "e2f04123",
   "metadata": {},
   "outputs": [
    {
     "name": "stdout",
     "output_type": "stream",
     "text": [
      "이름: 이순신\n",
      "나이: 10세\n",
      "주소: 인천\n"
     ]
    }
   ],
   "source": [
    "info2 = \"이름: \"+name2+\"\\n나이: \"+str(age2)+\"세\\n주소: \"+address2\n",
    "print(info2)"
   ]
  },
  {
   "cell_type": "code",
   "execution_count": 114,
   "id": "25b38359",
   "metadata": {},
   "outputs": [],
   "source": [
    "# {} => 추후 값이 들어갈 자리\n",
    "info_layout = \"이름: {}\\n나이: {}세\\n주소: {}\"\n",
    "\n",
    "info1 = info_layout.format(name1, age1, address1)"
   ]
  },
  {
   "cell_type": "code",
   "execution_count": 115,
   "id": "8527f1ad",
   "metadata": {},
   "outputs": [
    {
     "name": "stdout",
     "output_type": "stream",
     "text": [
      "이름: 최윤지\n",
      "나이: 25세\n",
      "주소: 서울\n"
     ]
    }
   ],
   "source": [
    "print(info1)"
   ]
  },
  {
   "cell_type": "code",
   "execution_count": 116,
   "id": "e75a617a",
   "metadata": {},
   "outputs": [
    {
     "name": "stdout",
     "output_type": "stream",
     "text": [
      "이름: 최윤지\n",
      "나이: 10세\n",
      "주소: 부산\n"
     ]
    }
   ],
   "source": [
    "print(\"이름: {}\\n나이: {}세\\n주소: {}\".format(name1, age2, address3))"
   ]
  },
  {
   "cell_type": "code",
   "execution_count": 118,
   "id": "7ed9fe39",
   "metadata": {},
   "outputs": [
    {
     "name": "stdout",
     "output_type": "stream",
     "text": [
      "이름: 최윤지\n",
      "나이: 10세\n",
      "주소: 부산\n",
      "이름: 최윤지\n"
     ]
    }
   ],
   "source": [
    "# idx 번호를 기입함으로써 원하는 인자를 원하는 곳에 넣을 수 있다. (중복 가능)\n",
    "print(\"이름: {0}\\n나이: {1}세\\n주소: {2}\\n이름: {0}\".format(name1, age2, address3))"
   ]
  },
  {
   "cell_type": "code",
   "execution_count": 119,
   "id": "fd479fd8",
   "metadata": {},
   "outputs": [
    {
     "name": "stdout",
     "output_type": "stream",
     "text": [
      "이름: 최윤지\n",
      "나이: 10세\n",
      "주소: 부산\n"
     ]
    }
   ],
   "source": [
    "#{name} : 괄호의 이름을 지정. 값 전달 시 괄호이름=값의 형식으로 값 전달 가능\n",
    "\n",
    "print(\"이름: {name}\\n나이: {age}세\\n주소: {addr}\".format(name=name1, age=age2, addr=address3))"
   ]
  },
  {
   "cell_type": "code",
   "execution_count": 122,
   "id": "2a37ca1f",
   "metadata": {},
   "outputs": [
    {
     "name": "stdout",
     "output_type": "stream",
     "text": [
      "이름: 최윤지, 나이: 23, 몸무게: 72.70\n"
     ]
    }
   ],
   "source": [
    "# 형식문자를 이용한 formatting\n",
    "\n",
    "name, age, weight = '최윤지', 23, 72.7\n",
    "\n",
    "info = \"이름: %s, 나이: %d, 몸무게: %.2f\" % (name, age, weight)\n",
    "print(info)"
   ]
  },
  {
   "cell_type": "code",
   "execution_count": 124,
   "id": "21de844f",
   "metadata": {},
   "outputs": [
    {
     "name": "stdout",
     "output_type": "stream",
     "text": [
      "이름: 최윤지, 나이: 46, 몸무게: 12.7\n"
     ]
    }
   ],
   "source": [
    "# f-string\n",
    "name, age, weight = '최윤지', 46, 12.7\n",
    "\n",
    "print(f\"이름: {name}, 나이: {age}, 몸무게: {weight}\")"
   ]
  },
  {
   "cell_type": "code",
   "execution_count": 128,
   "id": "82271c56",
   "metadata": {},
   "outputs": [
    {
     "name": "stdout",
     "output_type": "stream",
     "text": [
      "이름: 최윤지  , 나이: 46, 몸무게: 12.34567\n",
      "이름:   최윤지, 나이: 46, 몸무게: 12.35\n"
     ]
    }
   ],
   "source": [
    "weight = 12.34567\n",
    "\n",
    "print(f\"이름: {name:<5}, 나이: {age}, 몸무게: {weight}\")\n",
    "print(f\"이름: {name:>5}, 나이: {age}, 몸무게: {weight:.2f}\")"
   ]
  },
  {
   "cell_type": "code",
   "execution_count": 130,
   "id": "88ecffb8",
   "metadata": {},
   "outputs": [
    {
     "data": {
      "text/plain": [
       "['사과', '귤', '배', '수박', '복숭아']"
      ]
     },
     "execution_count": 130,
     "metadata": {},
     "output_type": "execute_result"
    }
   ],
   "source": [
    "# 문자열 관련 함수/메소드\n",
    "\n",
    "# 특정한 구분자로 쪼개는 것을 '토큰화' 한다고 함\n",
    "\n",
    "s = \"사과|귤|배|수박|복숭아\"   # 사과, 귤 등 각각의 단위를 '토큰'이라고 함\n",
    "s.split('|')"
   ]
  },
  {
   "cell_type": "code",
   "execution_count": 132,
   "id": "2ff93eda",
   "metadata": {},
   "outputs": [
    {
     "data": {
      "text/plain": [
       "'    abc'"
      ]
     },
     "execution_count": 132,
     "metadata": {},
     "output_type": "execute_result"
    }
   ],
   "source": [
    "s2 = \"    abc     \"\n",
    "s2.lstrip()  # 좌측 공백 삭제\n",
    "s2.rstrip()  # 우측 공백 삭제\n",
    "#s2.strip()   # 양측 공백 삭제"
   ]
  },
  {
   "cell_type": "code",
   "execution_count": 133,
   "id": "aa1c4760",
   "metadata": {},
   "outputs": [
    {
     "data": {
      "text/plain": [
       "'가c가c가c'"
      ]
     },
     "execution_count": 133,
     "metadata": {},
     "output_type": "execute_result"
    }
   ],
   "source": [
    "s3 = \"abcabcabc\"\n",
    "s3.replace('ab', '가') #ab를 가로 변경"
   ]
  },
  {
   "cell_type": "code",
   "execution_count": 136,
   "id": "64c53272",
   "metadata": {},
   "outputs": [
    {
     "data": {
      "text/plain": [
       "3"
      ]
     },
     "execution_count": 136,
     "metadata": {},
     "output_type": "execute_result"
    }
   ],
   "source": [
    "len(s3)  # s3의 글자수\n",
    "s3.count('a')  # -> 3\n",
    "s3.count('bc')"
   ]
  },
  {
   "cell_type": "code",
   "execution_count": 139,
   "id": "fddb8a7a",
   "metadata": {},
   "outputs": [
    {
     "data": {
      "text/plain": [
       "1"
      ]
     },
     "execution_count": 139,
     "metadata": {},
     "output_type": "execute_result"
    }
   ],
   "source": [
    "s3.index('a')  # a의 idx 번호 출력\n",
    "s3.index('bc') # 맨 앞글자인 b의 idx 번호 출력"
   ]
  },
  {
   "cell_type": "code",
   "execution_count": 140,
   "id": "fd9f5582",
   "metadata": {},
   "outputs": [
    {
     "data": {
      "text/plain": [
       "-1"
      ]
     },
     "execution_count": 140,
     "metadata": {},
     "output_type": "execute_result"
    }
   ],
   "source": [
    "s3.find('a')\n",
    "s3.find('bc')\n",
    "s3.find('가')  # 존재하지 않는 문자(열)을 찾을 경우 -1 반환"
   ]
  },
  {
   "cell_type": "code",
   "execution_count": 141,
   "id": "e5906abe",
   "metadata": {},
   "outputs": [
    {
     "data": {
      "text/plain": [
       "'가 없음'"
      ]
     },
     "execution_count": 141,
     "metadata": {},
     "output_type": "execute_result"
    }
   ],
   "source": [
    "\"가 없음\" if s3.find('가') == -1 else \"가 있음\""
   ]
  },
  {
   "cell_type": "code",
   "execution_count": 143,
   "id": "39efafaa",
   "metadata": {},
   "outputs": [
    {
     "data": {
      "text/plain": [
       "'abcde'"
      ]
     },
     "execution_count": 143,
     "metadata": {},
     "output_type": "execute_result"
    }
   ],
   "source": [
    "s4 = 'AbCdE'\n",
    "s4.upper()  # ABCDE\n",
    "s4.lower()  # abcde"
   ]
  },
  {
   "cell_type": "code",
   "execution_count": 146,
   "id": "1b08027a",
   "metadata": {},
   "outputs": [
    {
     "data": {
      "text/plain": [
       "False"
      ]
     },
     "execution_count": 146,
     "metadata": {},
     "output_type": "execute_result"
    }
   ],
   "source": [
    "addr = '서울시 서초구'\n",
    "addr.startswith('서울')  #T\n",
    "addr.startswith('광주')  #F"
   ]
  },
  {
   "cell_type": "code",
   "execution_count": 148,
   "id": "fe59fb8f",
   "metadata": {},
   "outputs": [
    {
     "data": {
      "text/plain": [
       "False"
      ]
     },
     "execution_count": 148,
     "metadata": {},
     "output_type": "execute_result"
    }
   ],
   "source": [
    "url = 'www.naver.com'\n",
    "url.endswith('.com')   #T\n",
    "url.endswith('.net')   #F"
   ]
  },
  {
   "cell_type": "code",
   "execution_count": 155,
   "id": "15d40abd",
   "metadata": {},
   "outputs": [
    {
     "name": "stdout",
     "output_type": "stream",
     "text": [
      "num1 :25\n"
     ]
    }
   ],
   "source": [
    "# 타입 변환 함수\n",
    "\n",
    "num1 = input(\"num1: \") #사용자로부터 값을 입력받을 때 사용. 입력받은 값을 str형으로 변수에 저장"
   ]
  },
  {
   "cell_type": "code",
   "execution_count": 156,
   "id": "a74b2a60",
   "metadata": {},
   "outputs": [
    {
     "name": "stdout",
     "output_type": "stream",
     "text": [
      "num2: 35\n"
     ]
    }
   ],
   "source": [
    "num2 = input(\"num2: \")"
   ]
  },
  {
   "cell_type": "code",
   "execution_count": 161,
   "id": "ccfbaa15",
   "metadata": {},
   "outputs": [
    {
     "name": "stdout",
     "output_type": "stream",
     "text": [
      "60\n",
      "60.0\n"
     ]
    }
   ],
   "source": [
    "num1+num2   # -> 2535\n",
    "\n",
    "# 덧셈을 하려면 문자열을 숫자형으로 변환해야 함\n",
    "print(int(num1) + int(num2))\n",
    "print(float(num1) + float(num2))"
   ]
  },
  {
   "cell_type": "code",
   "execution_count": 163,
   "id": "439f0a22",
   "metadata": {},
   "outputs": [
    {
     "name": "stdout",
     "output_type": "stream",
     "text": [
      "str: abc\n"
     ]
    }
   ],
   "source": [
    "s = input(\"str: \")"
   ]
  },
  {
   "cell_type": "code",
   "execution_count": 164,
   "id": "f48a8d14",
   "metadata": {},
   "outputs": [
    {
     "ename": "ValueError",
     "evalue": "invalid literal for int() with base 10: 'abc'",
     "output_type": "error",
     "traceback": [
      "\u001b[0;31m---------------------------------------------------------------------------\u001b[0m",
      "\u001b[0;31mValueError\u001b[0m                                Traceback (most recent call last)",
      "\u001b[0;32m<ipython-input-164-2c4720ab420a>\u001b[0m in \u001b[0;36m<module>\u001b[0;34m\u001b[0m\n\u001b[0;32m----> 1\u001b[0;31m \u001b[0mint\u001b[0m\u001b[0;34m(\u001b[0m\u001b[0ms\u001b[0m\u001b[0;34m)\u001b[0m\u001b[0;34m\u001b[0m\u001b[0;34m\u001b[0m\u001b[0m\n\u001b[0m",
      "\u001b[0;31mValueError\u001b[0m: invalid literal for int() with base 10: 'abc'"
     ]
    }
   ],
   "source": [
    "int(s) # input값이 숫자의 형태를 띄고있을 때 만 실제 숫자형으로 변환 가능"
   ]
  },
  {
   "cell_type": "code",
   "execution_count": 165,
   "id": "fb2177c7",
   "metadata": {},
   "outputs": [
    {
     "data": {
      "text/plain": [
       "0"
      ]
     },
     "execution_count": 165,
     "metadata": {},
     "output_type": "execute_result"
    }
   ],
   "source": [
    "int(True)   # True  => 1\n",
    "int(False)  # False => 0"
   ]
  },
  {
   "cell_type": "code",
   "execution_count": null,
   "id": "e9b374b3",
   "metadata": {},
   "outputs": [],
   "source": [
    "#문자열 Quest "
   ]
  },
  {
   "cell_type": "code",
   "execution_count": 172,
   "id": "ec5f93c4",
   "metadata": {},
   "outputs": [
    {
     "name": "stdout",
     "output_type": "stream",
     "text": [
      "901211\n"
     ]
    }
   ],
   "source": [
    "#1. 주민번호 \"901211-1027213\"의 앞 6자리만 조회해서 출력하시오.\n",
    "str1 = \"901211-1027213\"\n",
    "\n",
    "print(str1[:6])"
   ]
  },
  {
   "cell_type": "code",
   "execution_count": 174,
   "id": "780f0b94",
   "metadata": {},
   "outputs": [
    {
     "name": "stdout",
     "output_type": "stream",
     "text": [
      "안녕하세요\n",
      "안녕하세요\n",
      "안녕하세요\n",
      "안녕하세요\n",
      "안녕하세요\n",
      "안녕하세요\n",
      "안녕하세요\n",
      "안녕하세요\n",
      "안녕하세요\n",
      "안녕하세요\n",
      "\n"
     ]
    }
   ],
   "source": [
    "#2. \"안녕하세요\" 를 10번 출력하시오.\n",
    "\n",
    "print(\"안녕하세요\\n\"*10)"
   ]
  },
  {
   "cell_type": "code",
   "execution_count": 175,
   "id": "b9d03808",
   "metadata": {},
   "outputs": [
    {
     "name": "stdout",
     "output_type": "stream",
     "text": [
      "24\n"
     ]
    }
   ],
   "source": [
    "#3. 다음 문자열의 글자수를 출력하시오. -> \"akdlclkdkdlelql39du7마구0ㅌ\" \n",
    "str3 = \"akdlclkdkdlelql39du7마구0ㅌ\"\n",
    "\n",
    "print(len(str3))"
   ]
  },
  {
   "cell_type": "code",
   "execution_count": 186,
   "id": "99de22a8",
   "metadata": {},
   "outputs": [
    {
     "name": "stdout",
     "output_type": "stream",
     "text": [
      "제품명 : TV, 가격 : 300000, 제조사 : LG\n"
     ]
    }
   ],
   "source": [
    "#4. 위 변수의 값을 다음과 같은 형태로 출력하시오.\n",
    "#\"제품명 : TV, 가격 : 300000, 제조사 : LG\"\n",
    "name=\"TV\"\n",
    "price=300000\n",
    "maker = \"LG\"\n",
    "\n",
    "print(f\"제품명 : {name}, 가격 : {price}, 제조사 : {maker}\")"
   ]
  },
  {
   "cell_type": "code",
   "execution_count": 188,
   "id": "130c444b",
   "metadata": {},
   "outputs": [
    {
     "name": "stdout",
     "output_type": "stream",
     "text": [
      "False\n"
     ]
    }
   ],
   "source": [
    "#5. 위 fruits에 \"수박\"이 있는지 확인하는 코드를 작성하시오.\n",
    "fruits = \"사과 복숭아 귤 배\"\n",
    "\n",
    "# \"있\" if '수박' in fruits else \"없\"\n",
    "print(\"수박\" in fruits)"
   ]
  },
  {
   "cell_type": "code",
   "execution_count": 192,
   "id": "e177dfac",
   "metadata": {},
   "outputs": [
    {
     "name": "stdout",
     "output_type": "stream",
     "text": [
      "9\n"
     ]
    }
   ],
   "source": [
    "#6. str_value 문자열안에 a가 몇개 있는지 출력하시오.\n",
    "str_value=\"aldkjaldjfalfjlksajfladlkaalalkdjfa\"\n",
    "\n",
    "print(str_value.count('a'))"
   ]
  },
  {
   "cell_type": "code",
   "execution_count": null,
   "id": "d622a448",
   "metadata": {},
   "outputs": [],
   "source": []
  }
 ],
 "metadata": {
  "kernelspec": {
   "display_name": "Python 3",
   "language": "python",
   "name": "python3"
  },
  "language_info": {
   "codemirror_mode": {
    "name": "ipython",
    "version": 3
   },
   "file_extension": ".py",
   "mimetype": "text/x-python",
   "name": "python",
   "nbconvert_exporter": "python",
   "pygments_lexer": "ipython3",
   "version": "3.8.8"
  }
 },
 "nbformat": 4,
 "nbformat_minor": 5
}
